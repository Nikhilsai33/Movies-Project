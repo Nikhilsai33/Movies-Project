{
  "cells": [
    {
      "cell_type": "markdown",
      "metadata": {
        "id": "QIfCyzbWk2Ju"
      },
      "source": [
        "# Case 2: Collaborative Filtering via Deep Learning\n",
        "-----\n",
        "\n",
        "In this case, there are two main tasks:\n",
        "\n",
        "- First, you need to build a deep learning model to predict the movie ratings.\n",
        "\n",
        "- Then you will analyze the predicted ratings and provide an estimate of the movie valuation."
      ]
    },
    {
      "cell_type": "markdown",
      "metadata": {
        "id": "rITytN_mk5cW"
      },
      "source": [
        "## Instructions\n",
        "\n",
        "You need to fill in the missing code and submit the following files on Canvas\n",
        "site:\n",
        "\n",
        "1. A report in the pdf format containing the plots and the answers to the questions stated in the provided Jupyter notebook (Please read carefully the notebook and make sure answer every question);\n",
        "\n",
        "2. The complete Jupyter notebook containing all your PyTorch code with explanations, along with\n",
        "a Markdown text explaining different parts if needed."
      ]
    },
    {
      "cell_type": "markdown",
      "metadata": {
        "id": "tkEE3Ghd9azj"
      },
      "source": [
        "---\n",
        "## Introduction\n",
        "\n",
        "One very common problem to solve is when you have a number of users and a number of products, and you want to recommend which products are most likely to be useful for which users. There are many variations of this: for example, recommending movies (such as on Netflix), figuring out what to highlight for a user on a home page, deciding what stories to show in a social media feed, and so forth. There is a general solution to this problem, called *collaborative filtering*, which works like this: look at what products the current user has used or liked, find other users that have used or liked similar products, and then recommend other products that those users have used or liked.\n",
        "\n",
        "For example, on Netflix you may have watched lots of movies that are science fiction, full of action, and were made in the 1970s. Netflix may not know these particular properties of the films you have watched, but it will be able to see that other people that have watched the same movies that you watched also tended to watch other movies that are science fiction, full of action, and were made in the 1970s. In other words, to use this approach we don't necessarily need to know anything about the movies, except who like to watch them.\n",
        "\n",
        "There is actually a more general class of problems that this approach can solve, not necessarily involving users and products. Indeed, for collaborative filtering we more commonly refer to *items*, rather than *products*. Items could be links that people click on, diagnoses that are selected for patients, and so forth.\n",
        "\n",
        "The key foundational idea is that of *latent factors*. In the Netflix example, we started with the assumption that you like old, action-packed sci-fi movies. But you never actually told Netflix that you like these kinds of movies. And Netflix never actually needed to add columns to its movies table saying which movies are of these types. Still, there must be some underlying concept of sci-fi, action, and movie age, and these concepts must be relevant for at least some people's movie watching decisions.\n",
        "\n"
      ]
    },
    {
      "cell_type": "markdown",
      "metadata": {
        "id": "Ov5kAMHECNyW"
      },
      "source": [
        "---\n",
        "In this case, we'll build an explicit feedback recommender system: that is, a model that takes into account explicit feedback signals (like ratings) to recommend new content. We'll use an approach first made popular by the [Netflix prize](https://en.wikipedia.org/wiki/Netflix_Prize) contest: [matrix factorization](https://datajobs.com/data-science-repo/Recommender-Systems-[Netflix].pdf).\n",
        "\n",
        "The basic idea is very simple:\n",
        "\n",
        "1. Start with user-item-rating triplets, conveying the information that user _i_ gave some item _j_ rating _r_.\n",
        "2. Represent both users and items as high-dimensional vectors of numbers. For example, a user could be represented by `[0.3, -1.2, 0.5]` and an item by `[1.0, -0.3, -0.6]`.\n",
        "3. The representations should be chosen so that, when we multiplied together (via [dot products](https://en.wikipedia.org/wiki/Dot_product)), we can recover the original ratings.\n",
        "4. The utility of the model then is derived from the fact that if we multiply the user vector of a user with the item vector of some item they _have not_ rated, we hope to obtain a predicition for the rating they would have given to it had they seen it.\n",
        "\n",
        "<img src='https://storage.googleapis.com/gweb-cloudblog-publish/images/f1-collab_filtering.max-900x900.png?raw=true' width=50% />"
      ]
    },
    {
      "cell_type": "markdown",
      "metadata": {
        "id": "pK7DyF_ZUUDQ"
      },
      "source": [
        "We do not have access to Netflix's entire dataset of movie watching history, but there is a great dataset that we can use, called [MovieLens](https://grouplens.org/datasets/movielens/). This dataset contains tens of millions of movie rankings (a combination of a movie ID, a user ID, and a numeric rating).\n",
        "\n",
        "We start with importing the [Movielens 1M dataset](https://grouplens.org/datasets/movielens/1M/).  It contains 1,000,209 anonymous ratings of approximately 3,706 movies made by 6,040 MovieLens users who joined MovieLens in 2000."
      ]
    },
    {
      "cell_type": "markdown",
      "metadata": {
        "id": "OeHGO4qbUUC4"
      },
      "source": [
        "## Preparations"
      ]
    },
    {
      "cell_type": "markdown",
      "metadata": {
        "id": "lvWi4dUf1dQx"
      },
      "source": [
        "We first import the packages and download the data."
      ]
    },
    {
      "cell_type": "code",
      "execution_count": 1,
      "metadata": {
        "id": "frj5rX9wUUC_"
      },
      "outputs": [],
      "source": [
        "%matplotlib inline\n",
        "import matplotlib.pyplot as plt\n",
        "import numpy as np\n",
        "import os.path as op\n",
        "import imp\n",
        "import numpy as np\n",
        "\n",
        "from zipfile import ZipFile\n",
        "try:\n",
        "    from urllib.request import urlretrieve\n",
        "except ImportError:  # Python 2 compat\n",
        "    from urllib import urlretrieve\n",
        "\n",
        "# this line need to be changed if not on colab:\n",
        "data_folder = '/content/'\n",
        "\n",
        "\n",
        "ML_1M_URL = \"http://files.grouplens.org/datasets/movielens/ml-1m.zip\"\n",
        "ML_1M_FILENAME = op.join(data_folder,ML_1M_URL.rsplit('/', 1)[1])\n",
        "ML_1M_FOLDER = op.join(data_folder,'ml-1m')"
      ]
    },
    {
      "cell_type": "code",
      "execution_count": 2,
      "metadata": {
        "id": "utzHaMDsV1Bq",
        "colab": {
          "base_uri": "https://localhost:8080/"
        },
        "outputId": "011f1673-8fe3-48de-9187-0b6bb616ff46"
      },
      "outputs": [
        {
          "output_type": "stream",
          "name": "stdout",
          "text": [
            "Downloading http://files.grouplens.org/datasets/movielens/ml-1m.zip to /content/ml-1m.zip...\n",
            "Extracting /content/ml-1m.zip to /content/ml-1m...\n"
          ]
        }
      ],
      "source": [
        "if not op.exists(ML_1M_FILENAME):\n",
        "    print('Downloading %s to %s...' % (ML_1M_URL, ML_1M_FILENAME))\n",
        "    urlretrieve(ML_1M_URL, ML_1M_FILENAME)\n",
        "\n",
        "if not op.exists(ML_1M_FOLDER):\n",
        "    print('Extracting %s to %s...' % (ML_1M_FILENAME, ML_1M_FOLDER))\n",
        "    ZipFile(ML_1M_FILENAME).extractall(data_folder)"
      ]
    },
    {
      "cell_type": "markdown",
      "metadata": {
        "id": "omZ80S7J1voX"
      },
      "source": [
        "There are four different files:\n",
        "\n",
        "- README\n",
        "- movies.dat\n",
        "- ratings.dat\n",
        "- users.dat\n",
        "\n",
        "You may read README to get the description of each dat files."
      ]
    },
    {
      "cell_type": "markdown",
      "metadata": {
        "id": "hHgLg4jBUUDp"
      },
      "source": [
        "## Data analysis and formating"
      ]
    },
    {
      "cell_type": "markdown",
      "metadata": {
        "id": "ZlGyPSBpUUDt"
      },
      "source": [
        "We start by loading the data with [Python Data Analysis Library](http://pandas.pydata.org/)\n",
        "\n",
        "Note that the columns are separated by :: in the data."
      ]
    },
    {
      "cell_type": "code",
      "execution_count": 3,
      "metadata": {
        "colab": {
          "base_uri": "https://localhost:8080/",
          "height": 206
        },
        "id": "Qk6Vp83IV1Bv",
        "outputId": "e2d8f450-f500-44ad-d86f-d2030229a341"
      },
      "outputs": [
        {
          "output_type": "execute_result",
          "data": {
            "text/plain": [
              "   user_id  item_id  ratings  timestamp\n",
              "0        1     1193        5  978300760\n",
              "1        1      661        3  978302109\n",
              "2        1      914        3  978301968\n",
              "3        1     3408        4  978300275\n",
              "4        1     2355        5  978824291"
            ],
            "text/html": [
              "\n",
              "  <div id=\"df-8c6d7ece-39e4-45e8-9a62-e03b3bfde605\" class=\"colab-df-container\">\n",
              "    <div>\n",
              "<style scoped>\n",
              "    .dataframe tbody tr th:only-of-type {\n",
              "        vertical-align: middle;\n",
              "    }\n",
              "\n",
              "    .dataframe tbody tr th {\n",
              "        vertical-align: top;\n",
              "    }\n",
              "\n",
              "    .dataframe thead th {\n",
              "        text-align: right;\n",
              "    }\n",
              "</style>\n",
              "<table border=\"1\" class=\"dataframe\">\n",
              "  <thead>\n",
              "    <tr style=\"text-align: right;\">\n",
              "      <th></th>\n",
              "      <th>user_id</th>\n",
              "      <th>item_id</th>\n",
              "      <th>ratings</th>\n",
              "      <th>timestamp</th>\n",
              "    </tr>\n",
              "  </thead>\n",
              "  <tbody>\n",
              "    <tr>\n",
              "      <th>0</th>\n",
              "      <td>1</td>\n",
              "      <td>1193</td>\n",
              "      <td>5</td>\n",
              "      <td>978300760</td>\n",
              "    </tr>\n",
              "    <tr>\n",
              "      <th>1</th>\n",
              "      <td>1</td>\n",
              "      <td>661</td>\n",
              "      <td>3</td>\n",
              "      <td>978302109</td>\n",
              "    </tr>\n",
              "    <tr>\n",
              "      <th>2</th>\n",
              "      <td>1</td>\n",
              "      <td>914</td>\n",
              "      <td>3</td>\n",
              "      <td>978301968</td>\n",
              "    </tr>\n",
              "    <tr>\n",
              "      <th>3</th>\n",
              "      <td>1</td>\n",
              "      <td>3408</td>\n",
              "      <td>4</td>\n",
              "      <td>978300275</td>\n",
              "    </tr>\n",
              "    <tr>\n",
              "      <th>4</th>\n",
              "      <td>1</td>\n",
              "      <td>2355</td>\n",
              "      <td>5</td>\n",
              "      <td>978824291</td>\n",
              "    </tr>\n",
              "  </tbody>\n",
              "</table>\n",
              "</div>\n",
              "    <div class=\"colab-df-buttons\">\n",
              "\n",
              "  <div class=\"colab-df-container\">\n",
              "    <button class=\"colab-df-convert\" onclick=\"convertToInteractive('df-8c6d7ece-39e4-45e8-9a62-e03b3bfde605')\"\n",
              "            title=\"Convert this dataframe to an interactive table.\"\n",
              "            style=\"display:none;\">\n",
              "\n",
              "  <svg xmlns=\"http://www.w3.org/2000/svg\" height=\"24px\" viewBox=\"0 -960 960 960\">\n",
              "    <path d=\"M120-120v-720h720v720H120Zm60-500h600v-160H180v160Zm220 220h160v-160H400v160Zm0 220h160v-160H400v160ZM180-400h160v-160H180v160Zm440 0h160v-160H620v160ZM180-180h160v-160H180v160Zm440 0h160v-160H620v160Z\"/>\n",
              "  </svg>\n",
              "    </button>\n",
              "\n",
              "  <style>\n",
              "    .colab-df-container {\n",
              "      display:flex;\n",
              "      gap: 12px;\n",
              "    }\n",
              "\n",
              "    .colab-df-convert {\n",
              "      background-color: #E8F0FE;\n",
              "      border: none;\n",
              "      border-radius: 50%;\n",
              "      cursor: pointer;\n",
              "      display: none;\n",
              "      fill: #1967D2;\n",
              "      height: 32px;\n",
              "      padding: 0 0 0 0;\n",
              "      width: 32px;\n",
              "    }\n",
              "\n",
              "    .colab-df-convert:hover {\n",
              "      background-color: #E2EBFA;\n",
              "      box-shadow: 0px 1px 2px rgba(60, 64, 67, 0.3), 0px 1px 3px 1px rgba(60, 64, 67, 0.15);\n",
              "      fill: #174EA6;\n",
              "    }\n",
              "\n",
              "    .colab-df-buttons div {\n",
              "      margin-bottom: 4px;\n",
              "    }\n",
              "\n",
              "    [theme=dark] .colab-df-convert {\n",
              "      background-color: #3B4455;\n",
              "      fill: #D2E3FC;\n",
              "    }\n",
              "\n",
              "    [theme=dark] .colab-df-convert:hover {\n",
              "      background-color: #434B5C;\n",
              "      box-shadow: 0px 1px 3px 1px rgba(0, 0, 0, 0.15);\n",
              "      filter: drop-shadow(0px 1px 2px rgba(0, 0, 0, 0.3));\n",
              "      fill: #FFFFFF;\n",
              "    }\n",
              "  </style>\n",
              "\n",
              "    <script>\n",
              "      const buttonEl =\n",
              "        document.querySelector('#df-8c6d7ece-39e4-45e8-9a62-e03b3bfde605 button.colab-df-convert');\n",
              "      buttonEl.style.display =\n",
              "        google.colab.kernel.accessAllowed ? 'block' : 'none';\n",
              "\n",
              "      async function convertToInteractive(key) {\n",
              "        const element = document.querySelector('#df-8c6d7ece-39e4-45e8-9a62-e03b3bfde605');\n",
              "        const dataTable =\n",
              "          await google.colab.kernel.invokeFunction('convertToInteractive',\n",
              "                                                    [key], {});\n",
              "        if (!dataTable) return;\n",
              "\n",
              "        const docLinkHtml = 'Like what you see? Visit the ' +\n",
              "          '<a target=\"_blank\" href=https://colab.research.google.com/notebooks/data_table.ipynb>data table notebook</a>'\n",
              "          + ' to learn more about interactive tables.';\n",
              "        element.innerHTML = '';\n",
              "        dataTable['output_type'] = 'display_data';\n",
              "        await google.colab.output.renderOutput(dataTable, element);\n",
              "        const docLink = document.createElement('div');\n",
              "        docLink.innerHTML = docLinkHtml;\n",
              "        element.appendChild(docLink);\n",
              "      }\n",
              "    </script>\n",
              "  </div>\n",
              "\n",
              "\n",
              "<div id=\"df-c5dc57f3-8e3e-4ef7-9070-36d543ee61e8\">\n",
              "  <button class=\"colab-df-quickchart\" onclick=\"quickchart('df-c5dc57f3-8e3e-4ef7-9070-36d543ee61e8')\"\n",
              "            title=\"Suggest charts\"\n",
              "            style=\"display:none;\">\n",
              "\n",
              "<svg xmlns=\"http://www.w3.org/2000/svg\" height=\"24px\"viewBox=\"0 0 24 24\"\n",
              "     width=\"24px\">\n",
              "    <g>\n",
              "        <path d=\"M19 3H5c-1.1 0-2 .9-2 2v14c0 1.1.9 2 2 2h14c1.1 0 2-.9 2-2V5c0-1.1-.9-2-2-2zM9 17H7v-7h2v7zm4 0h-2V7h2v10zm4 0h-2v-4h2v4z\"/>\n",
              "    </g>\n",
              "</svg>\n",
              "  </button>\n",
              "\n",
              "<style>\n",
              "  .colab-df-quickchart {\n",
              "      --bg-color: #E8F0FE;\n",
              "      --fill-color: #1967D2;\n",
              "      --hover-bg-color: #E2EBFA;\n",
              "      --hover-fill-color: #174EA6;\n",
              "      --disabled-fill-color: #AAA;\n",
              "      --disabled-bg-color: #DDD;\n",
              "  }\n",
              "\n",
              "  [theme=dark] .colab-df-quickchart {\n",
              "      --bg-color: #3B4455;\n",
              "      --fill-color: #D2E3FC;\n",
              "      --hover-bg-color: #434B5C;\n",
              "      --hover-fill-color: #FFFFFF;\n",
              "      --disabled-bg-color: #3B4455;\n",
              "      --disabled-fill-color: #666;\n",
              "  }\n",
              "\n",
              "  .colab-df-quickchart {\n",
              "    background-color: var(--bg-color);\n",
              "    border: none;\n",
              "    border-radius: 50%;\n",
              "    cursor: pointer;\n",
              "    display: none;\n",
              "    fill: var(--fill-color);\n",
              "    height: 32px;\n",
              "    padding: 0;\n",
              "    width: 32px;\n",
              "  }\n",
              "\n",
              "  .colab-df-quickchart:hover {\n",
              "    background-color: var(--hover-bg-color);\n",
              "    box-shadow: 0 1px 2px rgba(60, 64, 67, 0.3), 0 1px 3px 1px rgba(60, 64, 67, 0.15);\n",
              "    fill: var(--button-hover-fill-color);\n",
              "  }\n",
              "\n",
              "  .colab-df-quickchart-complete:disabled,\n",
              "  .colab-df-quickchart-complete:disabled:hover {\n",
              "    background-color: var(--disabled-bg-color);\n",
              "    fill: var(--disabled-fill-color);\n",
              "    box-shadow: none;\n",
              "  }\n",
              "\n",
              "  .colab-df-spinner {\n",
              "    border: 2px solid var(--fill-color);\n",
              "    border-color: transparent;\n",
              "    border-bottom-color: var(--fill-color);\n",
              "    animation:\n",
              "      spin 1s steps(1) infinite;\n",
              "  }\n",
              "\n",
              "  @keyframes spin {\n",
              "    0% {\n",
              "      border-color: transparent;\n",
              "      border-bottom-color: var(--fill-color);\n",
              "      border-left-color: var(--fill-color);\n",
              "    }\n",
              "    20% {\n",
              "      border-color: transparent;\n",
              "      border-left-color: var(--fill-color);\n",
              "      border-top-color: var(--fill-color);\n",
              "    }\n",
              "    30% {\n",
              "      border-color: transparent;\n",
              "      border-left-color: var(--fill-color);\n",
              "      border-top-color: var(--fill-color);\n",
              "      border-right-color: var(--fill-color);\n",
              "    }\n",
              "    40% {\n",
              "      border-color: transparent;\n",
              "      border-right-color: var(--fill-color);\n",
              "      border-top-color: var(--fill-color);\n",
              "    }\n",
              "    60% {\n",
              "      border-color: transparent;\n",
              "      border-right-color: var(--fill-color);\n",
              "    }\n",
              "    80% {\n",
              "      border-color: transparent;\n",
              "      border-right-color: var(--fill-color);\n",
              "      border-bottom-color: var(--fill-color);\n",
              "    }\n",
              "    90% {\n",
              "      border-color: transparent;\n",
              "      border-bottom-color: var(--fill-color);\n",
              "    }\n",
              "  }\n",
              "</style>\n",
              "\n",
              "  <script>\n",
              "    async function quickchart(key) {\n",
              "      const quickchartButtonEl =\n",
              "        document.querySelector('#' + key + ' button');\n",
              "      quickchartButtonEl.disabled = true;  // To prevent multiple clicks.\n",
              "      quickchartButtonEl.classList.add('colab-df-spinner');\n",
              "      try {\n",
              "        const charts = await google.colab.kernel.invokeFunction(\n",
              "            'suggestCharts', [key], {});\n",
              "      } catch (error) {\n",
              "        console.error('Error during call to suggestCharts:', error);\n",
              "      }\n",
              "      quickchartButtonEl.classList.remove('colab-df-spinner');\n",
              "      quickchartButtonEl.classList.add('colab-df-quickchart-complete');\n",
              "    }\n",
              "    (() => {\n",
              "      let quickchartButtonEl =\n",
              "        document.querySelector('#df-c5dc57f3-8e3e-4ef7-9070-36d543ee61e8 button');\n",
              "      quickchartButtonEl.style.display =\n",
              "        google.colab.kernel.accessAllowed ? 'block' : 'none';\n",
              "    })();\n",
              "  </script>\n",
              "</div>\n",
              "\n",
              "    </div>\n",
              "  </div>\n"
            ],
            "application/vnd.google.colaboratory.intrinsic+json": {
              "type": "dataframe",
              "variable_name": "all_ratings"
            }
          },
          "metadata": {},
          "execution_count": 3
        }
      ],
      "source": [
        "import pandas as pd\n",
        "all_ratings = pd.read_csv(op.join(ML_1M_FOLDER, 'ratings.dat'), sep='::',\n",
        "                          names=[\"user_id\", \"item_id\", \"ratings\", \"timestamp\"],engine='python')\n",
        "all_ratings.head()"
      ]
    },
    {
      "cell_type": "markdown",
      "metadata": {
        "id": "BiYoxkZqDbVo"
      },
      "source": [
        "When showing the data, we would rather see movie titles than their IDs. The `movies.dat` contains the correspondence of IDs to movie titles."
      ]
    },
    {
      "cell_type": "code",
      "execution_count": 4,
      "metadata": {
        "colab": {
          "base_uri": "https://localhost:8080/",
          "height": 206
        },
        "id": "UDPeRguMV1Bz",
        "outputId": "23696ff2-5497-4f3d-b41a-303966f8f523",
        "scrolled": true
      },
      "outputs": [
        {
          "output_type": "execute_result",
          "data": {
            "text/plain": [
              "  item_id                           item_name\n",
              "0       1                    Toy Story (1995)\n",
              "1       2                      Jumanji (1995)\n",
              "2       3             Grumpier Old Men (1995)\n",
              "3       4            Waiting to Exhale (1995)\n",
              "4       5  Father of the Bride Part II (1995)"
            ],
            "text/html": [
              "\n",
              "  <div id=\"df-89416cbe-5621-4136-beb3-1effebff042f\" class=\"colab-df-container\">\n",
              "    <div>\n",
              "<style scoped>\n",
              "    .dataframe tbody tr th:only-of-type {\n",
              "        vertical-align: middle;\n",
              "    }\n",
              "\n",
              "    .dataframe tbody tr th {\n",
              "        vertical-align: top;\n",
              "    }\n",
              "\n",
              "    .dataframe thead th {\n",
              "        text-align: right;\n",
              "    }\n",
              "</style>\n",
              "<table border=\"1\" class=\"dataframe\">\n",
              "  <thead>\n",
              "    <tr style=\"text-align: right;\">\n",
              "      <th></th>\n",
              "      <th>item_id</th>\n",
              "      <th>item_name</th>\n",
              "    </tr>\n",
              "  </thead>\n",
              "  <tbody>\n",
              "    <tr>\n",
              "      <th>0</th>\n",
              "      <td>1</td>\n",
              "      <td>Toy Story (1995)</td>\n",
              "    </tr>\n",
              "    <tr>\n",
              "      <th>1</th>\n",
              "      <td>2</td>\n",
              "      <td>Jumanji (1995)</td>\n",
              "    </tr>\n",
              "    <tr>\n",
              "      <th>2</th>\n",
              "      <td>3</td>\n",
              "      <td>Grumpier Old Men (1995)</td>\n",
              "    </tr>\n",
              "    <tr>\n",
              "      <th>3</th>\n",
              "      <td>4</td>\n",
              "      <td>Waiting to Exhale (1995)</td>\n",
              "    </tr>\n",
              "    <tr>\n",
              "      <th>4</th>\n",
              "      <td>5</td>\n",
              "      <td>Father of the Bride Part II (1995)</td>\n",
              "    </tr>\n",
              "  </tbody>\n",
              "</table>\n",
              "</div>\n",
              "    <div class=\"colab-df-buttons\">\n",
              "\n",
              "  <div class=\"colab-df-container\">\n",
              "    <button class=\"colab-df-convert\" onclick=\"convertToInteractive('df-89416cbe-5621-4136-beb3-1effebff042f')\"\n",
              "            title=\"Convert this dataframe to an interactive table.\"\n",
              "            style=\"display:none;\">\n",
              "\n",
              "  <svg xmlns=\"http://www.w3.org/2000/svg\" height=\"24px\" viewBox=\"0 -960 960 960\">\n",
              "    <path d=\"M120-120v-720h720v720H120Zm60-500h600v-160H180v160Zm220 220h160v-160H400v160Zm0 220h160v-160H400v160ZM180-400h160v-160H180v160Zm440 0h160v-160H620v160ZM180-180h160v-160H180v160Zm440 0h160v-160H620v160Z\"/>\n",
              "  </svg>\n",
              "    </button>\n",
              "\n",
              "  <style>\n",
              "    .colab-df-container {\n",
              "      display:flex;\n",
              "      gap: 12px;\n",
              "    }\n",
              "\n",
              "    .colab-df-convert {\n",
              "      background-color: #E8F0FE;\n",
              "      border: none;\n",
              "      border-radius: 50%;\n",
              "      cursor: pointer;\n",
              "      display: none;\n",
              "      fill: #1967D2;\n",
              "      height: 32px;\n",
              "      padding: 0 0 0 0;\n",
              "      width: 32px;\n",
              "    }\n",
              "\n",
              "    .colab-df-convert:hover {\n",
              "      background-color: #E2EBFA;\n",
              "      box-shadow: 0px 1px 2px rgba(60, 64, 67, 0.3), 0px 1px 3px 1px rgba(60, 64, 67, 0.15);\n",
              "      fill: #174EA6;\n",
              "    }\n",
              "\n",
              "    .colab-df-buttons div {\n",
              "      margin-bottom: 4px;\n",
              "    }\n",
              "\n",
              "    [theme=dark] .colab-df-convert {\n",
              "      background-color: #3B4455;\n",
              "      fill: #D2E3FC;\n",
              "    }\n",
              "\n",
              "    [theme=dark] .colab-df-convert:hover {\n",
              "      background-color: #434B5C;\n",
              "      box-shadow: 0px 1px 3px 1px rgba(0, 0, 0, 0.15);\n",
              "      filter: drop-shadow(0px 1px 2px rgba(0, 0, 0, 0.3));\n",
              "      fill: #FFFFFF;\n",
              "    }\n",
              "  </style>\n",
              "\n",
              "    <script>\n",
              "      const buttonEl =\n",
              "        document.querySelector('#df-89416cbe-5621-4136-beb3-1effebff042f button.colab-df-convert');\n",
              "      buttonEl.style.display =\n",
              "        google.colab.kernel.accessAllowed ? 'block' : 'none';\n",
              "\n",
              "      async function convertToInteractive(key) {\n",
              "        const element = document.querySelector('#df-89416cbe-5621-4136-beb3-1effebff042f');\n",
              "        const dataTable =\n",
              "          await google.colab.kernel.invokeFunction('convertToInteractive',\n",
              "                                                    [key], {});\n",
              "        if (!dataTable) return;\n",
              "\n",
              "        const docLinkHtml = 'Like what you see? Visit the ' +\n",
              "          '<a target=\"_blank\" href=https://colab.research.google.com/notebooks/data_table.ipynb>data table notebook</a>'\n",
              "          + ' to learn more about interactive tables.';\n",
              "        element.innerHTML = '';\n",
              "        dataTable['output_type'] = 'display_data';\n",
              "        await google.colab.output.renderOutput(dataTable, element);\n",
              "        const docLink = document.createElement('div');\n",
              "        docLink.innerHTML = docLinkHtml;\n",
              "        element.appendChild(docLink);\n",
              "      }\n",
              "    </script>\n",
              "  </div>\n",
              "\n",
              "\n",
              "<div id=\"df-32a4a8f8-048d-487d-baf1-6732e0f96de0\">\n",
              "  <button class=\"colab-df-quickchart\" onclick=\"quickchart('df-32a4a8f8-048d-487d-baf1-6732e0f96de0')\"\n",
              "            title=\"Suggest charts\"\n",
              "            style=\"display:none;\">\n",
              "\n",
              "<svg xmlns=\"http://www.w3.org/2000/svg\" height=\"24px\"viewBox=\"0 0 24 24\"\n",
              "     width=\"24px\">\n",
              "    <g>\n",
              "        <path d=\"M19 3H5c-1.1 0-2 .9-2 2v14c0 1.1.9 2 2 2h14c1.1 0 2-.9 2-2V5c0-1.1-.9-2-2-2zM9 17H7v-7h2v7zm4 0h-2V7h2v10zm4 0h-2v-4h2v4z\"/>\n",
              "    </g>\n",
              "</svg>\n",
              "  </button>\n",
              "\n",
              "<style>\n",
              "  .colab-df-quickchart {\n",
              "      --bg-color: #E8F0FE;\n",
              "      --fill-color: #1967D2;\n",
              "      --hover-bg-color: #E2EBFA;\n",
              "      --hover-fill-color: #174EA6;\n",
              "      --disabled-fill-color: #AAA;\n",
              "      --disabled-bg-color: #DDD;\n",
              "  }\n",
              "\n",
              "  [theme=dark] .colab-df-quickchart {\n",
              "      --bg-color: #3B4455;\n",
              "      --fill-color: #D2E3FC;\n",
              "      --hover-bg-color: #434B5C;\n",
              "      --hover-fill-color: #FFFFFF;\n",
              "      --disabled-bg-color: #3B4455;\n",
              "      --disabled-fill-color: #666;\n",
              "  }\n",
              "\n",
              "  .colab-df-quickchart {\n",
              "    background-color: var(--bg-color);\n",
              "    border: none;\n",
              "    border-radius: 50%;\n",
              "    cursor: pointer;\n",
              "    display: none;\n",
              "    fill: var(--fill-color);\n",
              "    height: 32px;\n",
              "    padding: 0;\n",
              "    width: 32px;\n",
              "  }\n",
              "\n",
              "  .colab-df-quickchart:hover {\n",
              "    background-color: var(--hover-bg-color);\n",
              "    box-shadow: 0 1px 2px rgba(60, 64, 67, 0.3), 0 1px 3px 1px rgba(60, 64, 67, 0.15);\n",
              "    fill: var(--button-hover-fill-color);\n",
              "  }\n",
              "\n",
              "  .colab-df-quickchart-complete:disabled,\n",
              "  .colab-df-quickchart-complete:disabled:hover {\n",
              "    background-color: var(--disabled-bg-color);\n",
              "    fill: var(--disabled-fill-color);\n",
              "    box-shadow: none;\n",
              "  }\n",
              "\n",
              "  .colab-df-spinner {\n",
              "    border: 2px solid var(--fill-color);\n",
              "    border-color: transparent;\n",
              "    border-bottom-color: var(--fill-color);\n",
              "    animation:\n",
              "      spin 1s steps(1) infinite;\n",
              "  }\n",
              "\n",
              "  @keyframes spin {\n",
              "    0% {\n",
              "      border-color: transparent;\n",
              "      border-bottom-color: var(--fill-color);\n",
              "      border-left-color: var(--fill-color);\n",
              "    }\n",
              "    20% {\n",
              "      border-color: transparent;\n",
              "      border-left-color: var(--fill-color);\n",
              "      border-top-color: var(--fill-color);\n",
              "    }\n",
              "    30% {\n",
              "      border-color: transparent;\n",
              "      border-left-color: var(--fill-color);\n",
              "      border-top-color: var(--fill-color);\n",
              "      border-right-color: var(--fill-color);\n",
              "    }\n",
              "    40% {\n",
              "      border-color: transparent;\n",
              "      border-right-color: var(--fill-color);\n",
              "      border-top-color: var(--fill-color);\n",
              "    }\n",
              "    60% {\n",
              "      border-color: transparent;\n",
              "      border-right-color: var(--fill-color);\n",
              "    }\n",
              "    80% {\n",
              "      border-color: transparent;\n",
              "      border-right-color: var(--fill-color);\n",
              "      border-bottom-color: var(--fill-color);\n",
              "    }\n",
              "    90% {\n",
              "      border-color: transparent;\n",
              "      border-bottom-color: var(--fill-color);\n",
              "    }\n",
              "  }\n",
              "</style>\n",
              "\n",
              "  <script>\n",
              "    async function quickchart(key) {\n",
              "      const quickchartButtonEl =\n",
              "        document.querySelector('#' + key + ' button');\n",
              "      quickchartButtonEl.disabled = true;  // To prevent multiple clicks.\n",
              "      quickchartButtonEl.classList.add('colab-df-spinner');\n",
              "      try {\n",
              "        const charts = await google.colab.kernel.invokeFunction(\n",
              "            'suggestCharts', [key], {});\n",
              "      } catch (error) {\n",
              "        console.error('Error during call to suggestCharts:', error);\n",
              "      }\n",
              "      quickchartButtonEl.classList.remove('colab-df-spinner');\n",
              "      quickchartButtonEl.classList.add('colab-df-quickchart-complete');\n",
              "    }\n",
              "    (() => {\n",
              "      let quickchartButtonEl =\n",
              "        document.querySelector('#df-32a4a8f8-048d-487d-baf1-6732e0f96de0 button');\n",
              "      quickchartButtonEl.style.display =\n",
              "        google.colab.kernel.accessAllowed ? 'block' : 'none';\n",
              "    })();\n",
              "  </script>\n",
              "</div>\n",
              "\n",
              "    </div>\n",
              "  </div>\n"
            ],
            "application/vnd.google.colaboratory.intrinsic+json": {
              "type": "dataframe",
              "variable_name": "movies_names",
              "summary": "{\n  \"name\": \"movies_names\",\n  \"rows\": 3883,\n  \"fields\": [\n    {\n      \"column\": \"item_id\",\n      \"properties\": {\n        \"dtype\": \"string\",\n        \"num_unique_values\": 3883,\n        \"samples\": [\n          \"1365\",\n          \"2706\",\n          \"3667\"\n        ],\n        \"semantic_type\": \"\",\n        \"description\": \"\"\n      }\n    },\n    {\n      \"column\": \"item_name\",\n      \"properties\": {\n        \"dtype\": \"string\",\n        \"num_unique_values\": 3883,\n        \"samples\": [\n          \"Ridicule (1996)\",\n          \"American Pie (1999)\",\n          \"Rent-A-Cop (1988)\"\n        ],\n        \"semantic_type\": \"\",\n        \"description\": \"\"\n      }\n    }\n  ]\n}"
            }
          },
          "metadata": {},
          "execution_count": 4
        }
      ],
      "source": [
        "list_movies_names = []\n",
        "list_item_ids = []\n",
        "with open(op.join(ML_1M_FOLDER, 'movies.dat'), encoding = \"ISO-8859-1\") as fp:\n",
        "    for line in fp:\n",
        "        list_item_ids.append(line.split('::')[0])\n",
        "        list_movies_names.append(line.split('::')[1])\n",
        "\n",
        "movies_names = pd.DataFrame(list(zip(list_item_ids, list_movies_names)),\n",
        "               columns =['item_id', 'item_name'])\n",
        "movies_names.head()"
      ]
    },
    {
      "cell_type": "markdown",
      "metadata": {
        "id": "6nVdjC0IV1B3"
      },
      "source": [
        "Here we add the title of the movies to the `all_ratings` data."
      ]
    },
    {
      "cell_type": "code",
      "execution_count": 5,
      "metadata": {
        "id": "21gIXEkXV1B4"
      },
      "outputs": [],
      "source": [
        "movies_names['item_id']=movies_names['item_id'].astype(int)\n",
        "all_ratings['item_id']=all_ratings['item_id'].astype(int)\n",
        "all_ratings = all_ratings.merge(movies_names,on='item_id')"
      ]
    },
    {
      "cell_type": "code",
      "execution_count": 6,
      "metadata": {
        "colab": {
          "base_uri": "https://localhost:8080/",
          "height": 206
        },
        "id": "_XJlXE1mV1B8",
        "outputId": "8893e70a-b7d8-4461-8119-9d6b0ac74678"
      },
      "outputs": [
        {
          "output_type": "execute_result",
          "data": {
            "text/plain": [
              "   user_id  item_id  ratings  timestamp  \\\n",
              "0        1     1193        5  978300760   \n",
              "1        1      661        3  978302109   \n",
              "2        1      914        3  978301968   \n",
              "3        1     3408        4  978300275   \n",
              "4        1     2355        5  978824291   \n",
              "\n",
              "                                item_name  \n",
              "0  One Flew Over the Cuckoo's Nest (1975)  \n",
              "1        James and the Giant Peach (1996)  \n",
              "2                     My Fair Lady (1964)  \n",
              "3                  Erin Brockovich (2000)  \n",
              "4                    Bug's Life, A (1998)  "
            ],
            "text/html": [
              "\n",
              "  <div id=\"df-5d533928-345d-46f3-970f-3a9b9f98eb25\" class=\"colab-df-container\">\n",
              "    <div>\n",
              "<style scoped>\n",
              "    .dataframe tbody tr th:only-of-type {\n",
              "        vertical-align: middle;\n",
              "    }\n",
              "\n",
              "    .dataframe tbody tr th {\n",
              "        vertical-align: top;\n",
              "    }\n",
              "\n",
              "    .dataframe thead th {\n",
              "        text-align: right;\n",
              "    }\n",
              "</style>\n",
              "<table border=\"1\" class=\"dataframe\">\n",
              "  <thead>\n",
              "    <tr style=\"text-align: right;\">\n",
              "      <th></th>\n",
              "      <th>user_id</th>\n",
              "      <th>item_id</th>\n",
              "      <th>ratings</th>\n",
              "      <th>timestamp</th>\n",
              "      <th>item_name</th>\n",
              "    </tr>\n",
              "  </thead>\n",
              "  <tbody>\n",
              "    <tr>\n",
              "      <th>0</th>\n",
              "      <td>1</td>\n",
              "      <td>1193</td>\n",
              "      <td>5</td>\n",
              "      <td>978300760</td>\n",
              "      <td>One Flew Over the Cuckoo's Nest (1975)</td>\n",
              "    </tr>\n",
              "    <tr>\n",
              "      <th>1</th>\n",
              "      <td>1</td>\n",
              "      <td>661</td>\n",
              "      <td>3</td>\n",
              "      <td>978302109</td>\n",
              "      <td>James and the Giant Peach (1996)</td>\n",
              "    </tr>\n",
              "    <tr>\n",
              "      <th>2</th>\n",
              "      <td>1</td>\n",
              "      <td>914</td>\n",
              "      <td>3</td>\n",
              "      <td>978301968</td>\n",
              "      <td>My Fair Lady (1964)</td>\n",
              "    </tr>\n",
              "    <tr>\n",
              "      <th>3</th>\n",
              "      <td>1</td>\n",
              "      <td>3408</td>\n",
              "      <td>4</td>\n",
              "      <td>978300275</td>\n",
              "      <td>Erin Brockovich (2000)</td>\n",
              "    </tr>\n",
              "    <tr>\n",
              "      <th>4</th>\n",
              "      <td>1</td>\n",
              "      <td>2355</td>\n",
              "      <td>5</td>\n",
              "      <td>978824291</td>\n",
              "      <td>Bug's Life, A (1998)</td>\n",
              "    </tr>\n",
              "  </tbody>\n",
              "</table>\n",
              "</div>\n",
              "    <div class=\"colab-df-buttons\">\n",
              "\n",
              "  <div class=\"colab-df-container\">\n",
              "    <button class=\"colab-df-convert\" onclick=\"convertToInteractive('df-5d533928-345d-46f3-970f-3a9b9f98eb25')\"\n",
              "            title=\"Convert this dataframe to an interactive table.\"\n",
              "            style=\"display:none;\">\n",
              "\n",
              "  <svg xmlns=\"http://www.w3.org/2000/svg\" height=\"24px\" viewBox=\"0 -960 960 960\">\n",
              "    <path d=\"M120-120v-720h720v720H120Zm60-500h600v-160H180v160Zm220 220h160v-160H400v160Zm0 220h160v-160H400v160ZM180-400h160v-160H180v160Zm440 0h160v-160H620v160ZM180-180h160v-160H180v160Zm440 0h160v-160H620v160Z\"/>\n",
              "  </svg>\n",
              "    </button>\n",
              "\n",
              "  <style>\n",
              "    .colab-df-container {\n",
              "      display:flex;\n",
              "      gap: 12px;\n",
              "    }\n",
              "\n",
              "    .colab-df-convert {\n",
              "      background-color: #E8F0FE;\n",
              "      border: none;\n",
              "      border-radius: 50%;\n",
              "      cursor: pointer;\n",
              "      display: none;\n",
              "      fill: #1967D2;\n",
              "      height: 32px;\n",
              "      padding: 0 0 0 0;\n",
              "      width: 32px;\n",
              "    }\n",
              "\n",
              "    .colab-df-convert:hover {\n",
              "      background-color: #E2EBFA;\n",
              "      box-shadow: 0px 1px 2px rgba(60, 64, 67, 0.3), 0px 1px 3px 1px rgba(60, 64, 67, 0.15);\n",
              "      fill: #174EA6;\n",
              "    }\n",
              "\n",
              "    .colab-df-buttons div {\n",
              "      margin-bottom: 4px;\n",
              "    }\n",
              "\n",
              "    [theme=dark] .colab-df-convert {\n",
              "      background-color: #3B4455;\n",
              "      fill: #D2E3FC;\n",
              "    }\n",
              "\n",
              "    [theme=dark] .colab-df-convert:hover {\n",
              "      background-color: #434B5C;\n",
              "      box-shadow: 0px 1px 3px 1px rgba(0, 0, 0, 0.15);\n",
              "      filter: drop-shadow(0px 1px 2px rgba(0, 0, 0, 0.3));\n",
              "      fill: #FFFFFF;\n",
              "    }\n",
              "  </style>\n",
              "\n",
              "    <script>\n",
              "      const buttonEl =\n",
              "        document.querySelector('#df-5d533928-345d-46f3-970f-3a9b9f98eb25 button.colab-df-convert');\n",
              "      buttonEl.style.display =\n",
              "        google.colab.kernel.accessAllowed ? 'block' : 'none';\n",
              "\n",
              "      async function convertToInteractive(key) {\n",
              "        const element = document.querySelector('#df-5d533928-345d-46f3-970f-3a9b9f98eb25');\n",
              "        const dataTable =\n",
              "          await google.colab.kernel.invokeFunction('convertToInteractive',\n",
              "                                                    [key], {});\n",
              "        if (!dataTable) return;\n",
              "\n",
              "        const docLinkHtml = 'Like what you see? Visit the ' +\n",
              "          '<a target=\"_blank\" href=https://colab.research.google.com/notebooks/data_table.ipynb>data table notebook</a>'\n",
              "          + ' to learn more about interactive tables.';\n",
              "        element.innerHTML = '';\n",
              "        dataTable['output_type'] = 'display_data';\n",
              "        await google.colab.output.renderOutput(dataTable, element);\n",
              "        const docLink = document.createElement('div');\n",
              "        docLink.innerHTML = docLinkHtml;\n",
              "        element.appendChild(docLink);\n",
              "      }\n",
              "    </script>\n",
              "  </div>\n",
              "\n",
              "\n",
              "<div id=\"df-1b3917e4-be68-4eb8-b9e6-4a010fe96e87\">\n",
              "  <button class=\"colab-df-quickchart\" onclick=\"quickchart('df-1b3917e4-be68-4eb8-b9e6-4a010fe96e87')\"\n",
              "            title=\"Suggest charts\"\n",
              "            style=\"display:none;\">\n",
              "\n",
              "<svg xmlns=\"http://www.w3.org/2000/svg\" height=\"24px\"viewBox=\"0 0 24 24\"\n",
              "     width=\"24px\">\n",
              "    <g>\n",
              "        <path d=\"M19 3H5c-1.1 0-2 .9-2 2v14c0 1.1.9 2 2 2h14c1.1 0 2-.9 2-2V5c0-1.1-.9-2-2-2zM9 17H7v-7h2v7zm4 0h-2V7h2v10zm4 0h-2v-4h2v4z\"/>\n",
              "    </g>\n",
              "</svg>\n",
              "  </button>\n",
              "\n",
              "<style>\n",
              "  .colab-df-quickchart {\n",
              "      --bg-color: #E8F0FE;\n",
              "      --fill-color: #1967D2;\n",
              "      --hover-bg-color: #E2EBFA;\n",
              "      --hover-fill-color: #174EA6;\n",
              "      --disabled-fill-color: #AAA;\n",
              "      --disabled-bg-color: #DDD;\n",
              "  }\n",
              "\n",
              "  [theme=dark] .colab-df-quickchart {\n",
              "      --bg-color: #3B4455;\n",
              "      --fill-color: #D2E3FC;\n",
              "      --hover-bg-color: #434B5C;\n",
              "      --hover-fill-color: #FFFFFF;\n",
              "      --disabled-bg-color: #3B4455;\n",
              "      --disabled-fill-color: #666;\n",
              "  }\n",
              "\n",
              "  .colab-df-quickchart {\n",
              "    background-color: var(--bg-color);\n",
              "    border: none;\n",
              "    border-radius: 50%;\n",
              "    cursor: pointer;\n",
              "    display: none;\n",
              "    fill: var(--fill-color);\n",
              "    height: 32px;\n",
              "    padding: 0;\n",
              "    width: 32px;\n",
              "  }\n",
              "\n",
              "  .colab-df-quickchart:hover {\n",
              "    background-color: var(--hover-bg-color);\n",
              "    box-shadow: 0 1px 2px rgba(60, 64, 67, 0.3), 0 1px 3px 1px rgba(60, 64, 67, 0.15);\n",
              "    fill: var(--button-hover-fill-color);\n",
              "  }\n",
              "\n",
              "  .colab-df-quickchart-complete:disabled,\n",
              "  .colab-df-quickchart-complete:disabled:hover {\n",
              "    background-color: var(--disabled-bg-color);\n",
              "    fill: var(--disabled-fill-color);\n",
              "    box-shadow: none;\n",
              "  }\n",
              "\n",
              "  .colab-df-spinner {\n",
              "    border: 2px solid var(--fill-color);\n",
              "    border-color: transparent;\n",
              "    border-bottom-color: var(--fill-color);\n",
              "    animation:\n",
              "      spin 1s steps(1) infinite;\n",
              "  }\n",
              "\n",
              "  @keyframes spin {\n",
              "    0% {\n",
              "      border-color: transparent;\n",
              "      border-bottom-color: var(--fill-color);\n",
              "      border-left-color: var(--fill-color);\n",
              "    }\n",
              "    20% {\n",
              "      border-color: transparent;\n",
              "      border-left-color: var(--fill-color);\n",
              "      border-top-color: var(--fill-color);\n",
              "    }\n",
              "    30% {\n",
              "      border-color: transparent;\n",
              "      border-left-color: var(--fill-color);\n",
              "      border-top-color: var(--fill-color);\n",
              "      border-right-color: var(--fill-color);\n",
              "    }\n",
              "    40% {\n",
              "      border-color: transparent;\n",
              "      border-right-color: var(--fill-color);\n",
              "      border-top-color: var(--fill-color);\n",
              "    }\n",
              "    60% {\n",
              "      border-color: transparent;\n",
              "      border-right-color: var(--fill-color);\n",
              "    }\n",
              "    80% {\n",
              "      border-color: transparent;\n",
              "      border-right-color: var(--fill-color);\n",
              "      border-bottom-color: var(--fill-color);\n",
              "    }\n",
              "    90% {\n",
              "      border-color: transparent;\n",
              "      border-bottom-color: var(--fill-color);\n",
              "    }\n",
              "  }\n",
              "</style>\n",
              "\n",
              "  <script>\n",
              "    async function quickchart(key) {\n",
              "      const quickchartButtonEl =\n",
              "        document.querySelector('#' + key + ' button');\n",
              "      quickchartButtonEl.disabled = true;  // To prevent multiple clicks.\n",
              "      quickchartButtonEl.classList.add('colab-df-spinner');\n",
              "      try {\n",
              "        const charts = await google.colab.kernel.invokeFunction(\n",
              "            'suggestCharts', [key], {});\n",
              "      } catch (error) {\n",
              "        console.error('Error during call to suggestCharts:', error);\n",
              "      }\n",
              "      quickchartButtonEl.classList.remove('colab-df-spinner');\n",
              "      quickchartButtonEl.classList.add('colab-df-quickchart-complete');\n",
              "    }\n",
              "    (() => {\n",
              "      let quickchartButtonEl =\n",
              "        document.querySelector('#df-1b3917e4-be68-4eb8-b9e6-4a010fe96e87 button');\n",
              "      quickchartButtonEl.style.display =\n",
              "        google.colab.kernel.accessAllowed ? 'block' : 'none';\n",
              "    })();\n",
              "  </script>\n",
              "</div>\n",
              "\n",
              "    </div>\n",
              "  </div>\n"
            ],
            "application/vnd.google.colaboratory.intrinsic+json": {
              "type": "dataframe",
              "variable_name": "all_ratings"
            }
          },
          "metadata": {},
          "execution_count": 6
        }
      ],
      "source": [
        "all_ratings.head()"
      ]
    },
    {
      "cell_type": "markdown",
      "metadata": {
        "id": "enyJuYhUUUEL"
      },
      "source": [
        "The dataframe `all_ratings` contains all the raw data for our problem."
      ]
    },
    {
      "cell_type": "code",
      "execution_count": 7,
      "metadata": {
        "colab": {
          "base_uri": "https://localhost:8080/"
        },
        "id": "3M7-jinQUUEO",
        "outputId": "59e62843-52c1-47d6-99ea-1c206e0aa1e8"
      },
      "outputs": [
        {
          "output_type": "execute_result",
          "data": {
            "text/plain": [
              "1000209"
            ]
          },
          "metadata": {},
          "execution_count": 7
        }
      ],
      "source": [
        "#number of entries\n",
        "len(all_ratings)"
      ]
    },
    {
      "cell_type": "code",
      "execution_count": 8,
      "metadata": {
        "colab": {
          "base_uri": "https://localhost:8080/",
          "height": 335
        },
        "id": "ofVcE781UUEa",
        "outputId": "c9283116-9c00-4ac9-a7d5-f18144c085fe"
      },
      "outputs": [
        {
          "output_type": "execute_result",
          "data": {
            "text/plain": [
              "count    1.000209e+06\n",
              "mean     3.581564e+00\n",
              "std      1.117102e+00\n",
              "min      1.000000e+00\n",
              "25%      3.000000e+00\n",
              "50%      4.000000e+00\n",
              "75%      4.000000e+00\n",
              "max      5.000000e+00\n",
              "Name: ratings, dtype: float64"
            ],
            "text/html": [
              "<div>\n",
              "<style scoped>\n",
              "    .dataframe tbody tr th:only-of-type {\n",
              "        vertical-align: middle;\n",
              "    }\n",
              "\n",
              "    .dataframe tbody tr th {\n",
              "        vertical-align: top;\n",
              "    }\n",
              "\n",
              "    .dataframe thead th {\n",
              "        text-align: right;\n",
              "    }\n",
              "</style>\n",
              "<table border=\"1\" class=\"dataframe\">\n",
              "  <thead>\n",
              "    <tr style=\"text-align: right;\">\n",
              "      <th></th>\n",
              "      <th>ratings</th>\n",
              "    </tr>\n",
              "  </thead>\n",
              "  <tbody>\n",
              "    <tr>\n",
              "      <th>count</th>\n",
              "      <td>1.000209e+06</td>\n",
              "    </tr>\n",
              "    <tr>\n",
              "      <th>mean</th>\n",
              "      <td>3.581564e+00</td>\n",
              "    </tr>\n",
              "    <tr>\n",
              "      <th>std</th>\n",
              "      <td>1.117102e+00</td>\n",
              "    </tr>\n",
              "    <tr>\n",
              "      <th>min</th>\n",
              "      <td>1.000000e+00</td>\n",
              "    </tr>\n",
              "    <tr>\n",
              "      <th>25%</th>\n",
              "      <td>3.000000e+00</td>\n",
              "    </tr>\n",
              "    <tr>\n",
              "      <th>50%</th>\n",
              "      <td>4.000000e+00</td>\n",
              "    </tr>\n",
              "    <tr>\n",
              "      <th>75%</th>\n",
              "      <td>4.000000e+00</td>\n",
              "    </tr>\n",
              "    <tr>\n",
              "      <th>max</th>\n",
              "      <td>5.000000e+00</td>\n",
              "    </tr>\n",
              "  </tbody>\n",
              "</table>\n",
              "</div><br><label><b>dtype:</b> float64</label>"
            ]
          },
          "metadata": {},
          "execution_count": 8
        }
      ],
      "source": [
        "# statistics of ratings\n",
        "all_ratings['ratings'].describe()"
      ]
    },
    {
      "cell_type": "code",
      "execution_count": 9,
      "metadata": {
        "colab": {
          "base_uri": "https://localhost:8080/"
        },
        "id": "tCdV2qzMUUEk",
        "outputId": "b557a1c0-c1d6-4dd3-d9e9-4f45b89e8ee3"
      },
      "outputs": [
        {
          "output_type": "execute_result",
          "data": {
            "text/plain": [
              "array([5, 3, 4, 2, 1])"
            ]
          },
          "metadata": {},
          "execution_count": 9
        }
      ],
      "source": [
        "# The ratings are 1, 2, 3, 4, 5\n",
        "all_ratings['ratings'].unique()"
      ]
    },
    {
      "cell_type": "markdown",
      "metadata": {
        "id": "Q5qXp4HX3P_D"
      },
      "source": [
        "We now check the user IDs."
      ]
    },
    {
      "cell_type": "code",
      "execution_count": 10,
      "metadata": {
        "colab": {
          "base_uri": "https://localhost:8080/",
          "height": 335
        },
        "id": "c1c1lNFG3LM0",
        "outputId": "04263a5f-d28e-49f6-9090-fadb1bd27e19"
      },
      "outputs": [
        {
          "output_type": "execute_result",
          "data": {
            "text/plain": [
              "count    1.000209e+06\n",
              "mean     3.024512e+03\n",
              "std      1.728413e+03\n",
              "min      1.000000e+00\n",
              "25%      1.506000e+03\n",
              "50%      3.070000e+03\n",
              "75%      4.476000e+03\n",
              "max      6.040000e+03\n",
              "Name: user_id, dtype: float64"
            ],
            "text/html": [
              "<div>\n",
              "<style scoped>\n",
              "    .dataframe tbody tr th:only-of-type {\n",
              "        vertical-align: middle;\n",
              "    }\n",
              "\n",
              "    .dataframe tbody tr th {\n",
              "        vertical-align: top;\n",
              "    }\n",
              "\n",
              "    .dataframe thead th {\n",
              "        text-align: right;\n",
              "    }\n",
              "</style>\n",
              "<table border=\"1\" class=\"dataframe\">\n",
              "  <thead>\n",
              "    <tr style=\"text-align: right;\">\n",
              "      <th></th>\n",
              "      <th>user_id</th>\n",
              "    </tr>\n",
              "  </thead>\n",
              "  <tbody>\n",
              "    <tr>\n",
              "      <th>count</th>\n",
              "      <td>1.000209e+06</td>\n",
              "    </tr>\n",
              "    <tr>\n",
              "      <th>mean</th>\n",
              "      <td>3.024512e+03</td>\n",
              "    </tr>\n",
              "    <tr>\n",
              "      <th>std</th>\n",
              "      <td>1.728413e+03</td>\n",
              "    </tr>\n",
              "    <tr>\n",
              "      <th>min</th>\n",
              "      <td>1.000000e+00</td>\n",
              "    </tr>\n",
              "    <tr>\n",
              "      <th>25%</th>\n",
              "      <td>1.506000e+03</td>\n",
              "    </tr>\n",
              "    <tr>\n",
              "      <th>50%</th>\n",
              "      <td>3.070000e+03</td>\n",
              "    </tr>\n",
              "    <tr>\n",
              "      <th>75%</th>\n",
              "      <td>4.476000e+03</td>\n",
              "    </tr>\n",
              "    <tr>\n",
              "      <th>max</th>\n",
              "      <td>6.040000e+03</td>\n",
              "    </tr>\n",
              "  </tbody>\n",
              "</table>\n",
              "</div><br><label><b>dtype:</b> float64</label>"
            ]
          },
          "metadata": {},
          "execution_count": 10
        }
      ],
      "source": [
        "all_ratings['user_id'].describe()"
      ]
    },
    {
      "cell_type": "code",
      "execution_count": 11,
      "metadata": {
        "colab": {
          "base_uri": "https://localhost:8080/"
        },
        "id": "P1QoS71CUUE7",
        "outputId": "05420b33-15d8-4a5d-e4f2-8c28cbfc0cfe"
      },
      "outputs": [
        {
          "output_type": "stream",
          "name": "stdout",
          "text": [
            "6040\n"
          ]
        }
      ],
      "source": [
        "# number of unique users\n",
        "total_user_id = len(all_ratings['user_id'].unique())\n",
        "print(total_user_id)"
      ]
    },
    {
      "cell_type": "markdown",
      "metadata": {
        "id": "-Az4KDFgV1CQ"
      },
      "source": [
        "We see that  the users seem to be indexed from 1 to 6040. Let's check that below using the following code."
      ]
    },
    {
      "cell_type": "code",
      "execution_count": 12,
      "metadata": {
        "id": "Pj8ZAzmIV1CQ"
      },
      "outputs": [],
      "source": [
        "list_user_id = list(all_ratings['user_id'].unique())\n",
        "list_user_id.sort()"
      ]
    },
    {
      "cell_type": "code",
      "execution_count": 13,
      "metadata": {
        "id": "l9omI-cwV1CT"
      },
      "outputs": [],
      "source": [
        "for i,j in enumerate(list_user_id):\n",
        "    if j != i+1:\n",
        "        print(i,j)"
      ]
    },
    {
      "cell_type": "markdown",
      "metadata": {
        "id": "7wElJE5T2zKx"
      },
      "source": [
        "We can see that `list_user_id` contains contiguous indices from 1 to 6040."
      ]
    },
    {
      "cell_type": "markdown",
      "metadata": {
        "id": "h-LytszyV1CV"
      },
      "source": [
        "We create a new column `user_num` to get an index from 0 to 6039 for users:"
      ]
    },
    {
      "cell_type": "code",
      "execution_count": 14,
      "metadata": {
        "id": "jE6WVgT-V1CV"
      },
      "outputs": [],
      "source": [
        "all_ratings['user_num'] = all_ratings['user_id'].apply(lambda x :x-1)"
      ]
    },
    {
      "cell_type": "code",
      "execution_count": 15,
      "metadata": {
        "colab": {
          "base_uri": "https://localhost:8080/",
          "height": 206
        },
        "id": "6HldBddZV1CY",
        "outputId": "9dc22bbe-0662-4e35-c68d-ab62b7725767"
      },
      "outputs": [
        {
          "output_type": "execute_result",
          "data": {
            "text/plain": [
              "   user_id  item_id  ratings  timestamp  \\\n",
              "0        1     1193        5  978300760   \n",
              "1        1      661        3  978302109   \n",
              "2        1      914        3  978301968   \n",
              "3        1     3408        4  978300275   \n",
              "4        1     2355        5  978824291   \n",
              "\n",
              "                                item_name  user_num  \n",
              "0  One Flew Over the Cuckoo's Nest (1975)         0  \n",
              "1        James and the Giant Peach (1996)         0  \n",
              "2                     My Fair Lady (1964)         0  \n",
              "3                  Erin Brockovich (2000)         0  \n",
              "4                    Bug's Life, A (1998)         0  "
            ],
            "text/html": [
              "\n",
              "  <div id=\"df-dbe2e359-9972-4cfb-bbee-1b64b215628d\" class=\"colab-df-container\">\n",
              "    <div>\n",
              "<style scoped>\n",
              "    .dataframe tbody tr th:only-of-type {\n",
              "        vertical-align: middle;\n",
              "    }\n",
              "\n",
              "    .dataframe tbody tr th {\n",
              "        vertical-align: top;\n",
              "    }\n",
              "\n",
              "    .dataframe thead th {\n",
              "        text-align: right;\n",
              "    }\n",
              "</style>\n",
              "<table border=\"1\" class=\"dataframe\">\n",
              "  <thead>\n",
              "    <tr style=\"text-align: right;\">\n",
              "      <th></th>\n",
              "      <th>user_id</th>\n",
              "      <th>item_id</th>\n",
              "      <th>ratings</th>\n",
              "      <th>timestamp</th>\n",
              "      <th>item_name</th>\n",
              "      <th>user_num</th>\n",
              "    </tr>\n",
              "  </thead>\n",
              "  <tbody>\n",
              "    <tr>\n",
              "      <th>0</th>\n",
              "      <td>1</td>\n",
              "      <td>1193</td>\n",
              "      <td>5</td>\n",
              "      <td>978300760</td>\n",
              "      <td>One Flew Over the Cuckoo's Nest (1975)</td>\n",
              "      <td>0</td>\n",
              "    </tr>\n",
              "    <tr>\n",
              "      <th>1</th>\n",
              "      <td>1</td>\n",
              "      <td>661</td>\n",
              "      <td>3</td>\n",
              "      <td>978302109</td>\n",
              "      <td>James and the Giant Peach (1996)</td>\n",
              "      <td>0</td>\n",
              "    </tr>\n",
              "    <tr>\n",
              "      <th>2</th>\n",
              "      <td>1</td>\n",
              "      <td>914</td>\n",
              "      <td>3</td>\n",
              "      <td>978301968</td>\n",
              "      <td>My Fair Lady (1964)</td>\n",
              "      <td>0</td>\n",
              "    </tr>\n",
              "    <tr>\n",
              "      <th>3</th>\n",
              "      <td>1</td>\n",
              "      <td>3408</td>\n",
              "      <td>4</td>\n",
              "      <td>978300275</td>\n",
              "      <td>Erin Brockovich (2000)</td>\n",
              "      <td>0</td>\n",
              "    </tr>\n",
              "    <tr>\n",
              "      <th>4</th>\n",
              "      <td>1</td>\n",
              "      <td>2355</td>\n",
              "      <td>5</td>\n",
              "      <td>978824291</td>\n",
              "      <td>Bug's Life, A (1998)</td>\n",
              "      <td>0</td>\n",
              "    </tr>\n",
              "  </tbody>\n",
              "</table>\n",
              "</div>\n",
              "    <div class=\"colab-df-buttons\">\n",
              "\n",
              "  <div class=\"colab-df-container\">\n",
              "    <button class=\"colab-df-convert\" onclick=\"convertToInteractive('df-dbe2e359-9972-4cfb-bbee-1b64b215628d')\"\n",
              "            title=\"Convert this dataframe to an interactive table.\"\n",
              "            style=\"display:none;\">\n",
              "\n",
              "  <svg xmlns=\"http://www.w3.org/2000/svg\" height=\"24px\" viewBox=\"0 -960 960 960\">\n",
              "    <path d=\"M120-120v-720h720v720H120Zm60-500h600v-160H180v160Zm220 220h160v-160H400v160Zm0 220h160v-160H400v160ZM180-400h160v-160H180v160Zm440 0h160v-160H620v160ZM180-180h160v-160H180v160Zm440 0h160v-160H620v160Z\"/>\n",
              "  </svg>\n",
              "    </button>\n",
              "\n",
              "  <style>\n",
              "    .colab-df-container {\n",
              "      display:flex;\n",
              "      gap: 12px;\n",
              "    }\n",
              "\n",
              "    .colab-df-convert {\n",
              "      background-color: #E8F0FE;\n",
              "      border: none;\n",
              "      border-radius: 50%;\n",
              "      cursor: pointer;\n",
              "      display: none;\n",
              "      fill: #1967D2;\n",
              "      height: 32px;\n",
              "      padding: 0 0 0 0;\n",
              "      width: 32px;\n",
              "    }\n",
              "\n",
              "    .colab-df-convert:hover {\n",
              "      background-color: #E2EBFA;\n",
              "      box-shadow: 0px 1px 2px rgba(60, 64, 67, 0.3), 0px 1px 3px 1px rgba(60, 64, 67, 0.15);\n",
              "      fill: #174EA6;\n",
              "    }\n",
              "\n",
              "    .colab-df-buttons div {\n",
              "      margin-bottom: 4px;\n",
              "    }\n",
              "\n",
              "    [theme=dark] .colab-df-convert {\n",
              "      background-color: #3B4455;\n",
              "      fill: #D2E3FC;\n",
              "    }\n",
              "\n",
              "    [theme=dark] .colab-df-convert:hover {\n",
              "      background-color: #434B5C;\n",
              "      box-shadow: 0px 1px 3px 1px rgba(0, 0, 0, 0.15);\n",
              "      filter: drop-shadow(0px 1px 2px rgba(0, 0, 0, 0.3));\n",
              "      fill: #FFFFFF;\n",
              "    }\n",
              "  </style>\n",
              "\n",
              "    <script>\n",
              "      const buttonEl =\n",
              "        document.querySelector('#df-dbe2e359-9972-4cfb-bbee-1b64b215628d button.colab-df-convert');\n",
              "      buttonEl.style.display =\n",
              "        google.colab.kernel.accessAllowed ? 'block' : 'none';\n",
              "\n",
              "      async function convertToInteractive(key) {\n",
              "        const element = document.querySelector('#df-dbe2e359-9972-4cfb-bbee-1b64b215628d');\n",
              "        const dataTable =\n",
              "          await google.colab.kernel.invokeFunction('convertToInteractive',\n",
              "                                                    [key], {});\n",
              "        if (!dataTable) return;\n",
              "\n",
              "        const docLinkHtml = 'Like what you see? Visit the ' +\n",
              "          '<a target=\"_blank\" href=https://colab.research.google.com/notebooks/data_table.ipynb>data table notebook</a>'\n",
              "          + ' to learn more about interactive tables.';\n",
              "        element.innerHTML = '';\n",
              "        dataTable['output_type'] = 'display_data';\n",
              "        await google.colab.output.renderOutput(dataTable, element);\n",
              "        const docLink = document.createElement('div');\n",
              "        docLink.innerHTML = docLinkHtml;\n",
              "        element.appendChild(docLink);\n",
              "      }\n",
              "    </script>\n",
              "  </div>\n",
              "\n",
              "\n",
              "<div id=\"df-a02fd2d9-2fbf-44d9-8c52-7f5076b7312c\">\n",
              "  <button class=\"colab-df-quickchart\" onclick=\"quickchart('df-a02fd2d9-2fbf-44d9-8c52-7f5076b7312c')\"\n",
              "            title=\"Suggest charts\"\n",
              "            style=\"display:none;\">\n",
              "\n",
              "<svg xmlns=\"http://www.w3.org/2000/svg\" height=\"24px\"viewBox=\"0 0 24 24\"\n",
              "     width=\"24px\">\n",
              "    <g>\n",
              "        <path d=\"M19 3H5c-1.1 0-2 .9-2 2v14c0 1.1.9 2 2 2h14c1.1 0 2-.9 2-2V5c0-1.1-.9-2-2-2zM9 17H7v-7h2v7zm4 0h-2V7h2v10zm4 0h-2v-4h2v4z\"/>\n",
              "    </g>\n",
              "</svg>\n",
              "  </button>\n",
              "\n",
              "<style>\n",
              "  .colab-df-quickchart {\n",
              "      --bg-color: #E8F0FE;\n",
              "      --fill-color: #1967D2;\n",
              "      --hover-bg-color: #E2EBFA;\n",
              "      --hover-fill-color: #174EA6;\n",
              "      --disabled-fill-color: #AAA;\n",
              "      --disabled-bg-color: #DDD;\n",
              "  }\n",
              "\n",
              "  [theme=dark] .colab-df-quickchart {\n",
              "      --bg-color: #3B4455;\n",
              "      --fill-color: #D2E3FC;\n",
              "      --hover-bg-color: #434B5C;\n",
              "      --hover-fill-color: #FFFFFF;\n",
              "      --disabled-bg-color: #3B4455;\n",
              "      --disabled-fill-color: #666;\n",
              "  }\n",
              "\n",
              "  .colab-df-quickchart {\n",
              "    background-color: var(--bg-color);\n",
              "    border: none;\n",
              "    border-radius: 50%;\n",
              "    cursor: pointer;\n",
              "    display: none;\n",
              "    fill: var(--fill-color);\n",
              "    height: 32px;\n",
              "    padding: 0;\n",
              "    width: 32px;\n",
              "  }\n",
              "\n",
              "  .colab-df-quickchart:hover {\n",
              "    background-color: var(--hover-bg-color);\n",
              "    box-shadow: 0 1px 2px rgba(60, 64, 67, 0.3), 0 1px 3px 1px rgba(60, 64, 67, 0.15);\n",
              "    fill: var(--button-hover-fill-color);\n",
              "  }\n",
              "\n",
              "  .colab-df-quickchart-complete:disabled,\n",
              "  .colab-df-quickchart-complete:disabled:hover {\n",
              "    background-color: var(--disabled-bg-color);\n",
              "    fill: var(--disabled-fill-color);\n",
              "    box-shadow: none;\n",
              "  }\n",
              "\n",
              "  .colab-df-spinner {\n",
              "    border: 2px solid var(--fill-color);\n",
              "    border-color: transparent;\n",
              "    border-bottom-color: var(--fill-color);\n",
              "    animation:\n",
              "      spin 1s steps(1) infinite;\n",
              "  }\n",
              "\n",
              "  @keyframes spin {\n",
              "    0% {\n",
              "      border-color: transparent;\n",
              "      border-bottom-color: var(--fill-color);\n",
              "      border-left-color: var(--fill-color);\n",
              "    }\n",
              "    20% {\n",
              "      border-color: transparent;\n",
              "      border-left-color: var(--fill-color);\n",
              "      border-top-color: var(--fill-color);\n",
              "    }\n",
              "    30% {\n",
              "      border-color: transparent;\n",
              "      border-left-color: var(--fill-color);\n",
              "      border-top-color: var(--fill-color);\n",
              "      border-right-color: var(--fill-color);\n",
              "    }\n",
              "    40% {\n",
              "      border-color: transparent;\n",
              "      border-right-color: var(--fill-color);\n",
              "      border-top-color: var(--fill-color);\n",
              "    }\n",
              "    60% {\n",
              "      border-color: transparent;\n",
              "      border-right-color: var(--fill-color);\n",
              "    }\n",
              "    80% {\n",
              "      border-color: transparent;\n",
              "      border-right-color: var(--fill-color);\n",
              "      border-bottom-color: var(--fill-color);\n",
              "    }\n",
              "    90% {\n",
              "      border-color: transparent;\n",
              "      border-bottom-color: var(--fill-color);\n",
              "    }\n",
              "  }\n",
              "</style>\n",
              "\n",
              "  <script>\n",
              "    async function quickchart(key) {\n",
              "      const quickchartButtonEl =\n",
              "        document.querySelector('#' + key + ' button');\n",
              "      quickchartButtonEl.disabled = true;  // To prevent multiple clicks.\n",
              "      quickchartButtonEl.classList.add('colab-df-spinner');\n",
              "      try {\n",
              "        const charts = await google.colab.kernel.invokeFunction(\n",
              "            'suggestCharts', [key], {});\n",
              "      } catch (error) {\n",
              "        console.error('Error during call to suggestCharts:', error);\n",
              "      }\n",
              "      quickchartButtonEl.classList.remove('colab-df-spinner');\n",
              "      quickchartButtonEl.classList.add('colab-df-quickchart-complete');\n",
              "    }\n",
              "    (() => {\n",
              "      let quickchartButtonEl =\n",
              "        document.querySelector('#df-a02fd2d9-2fbf-44d9-8c52-7f5076b7312c button');\n",
              "      quickchartButtonEl.style.display =\n",
              "        google.colab.kernel.accessAllowed ? 'block' : 'none';\n",
              "    })();\n",
              "  </script>\n",
              "</div>\n",
              "\n",
              "    </div>\n",
              "  </div>\n"
            ],
            "application/vnd.google.colaboratory.intrinsic+json": {
              "type": "dataframe",
              "variable_name": "all_ratings"
            }
          },
          "metadata": {},
          "execution_count": 15
        }
      ],
      "source": [
        "all_ratings.head()"
      ]
    },
    {
      "cell_type": "markdown",
      "metadata": {
        "id": "W0OThRYhV1Cb"
      },
      "source": [
        "We now look at movies."
      ]
    },
    {
      "cell_type": "code",
      "execution_count": 16,
      "metadata": {
        "colab": {
          "base_uri": "https://localhost:8080/",
          "height": 335
        },
        "id": "l3gfokbNUUFH",
        "outputId": "4431e479-806a-4311-fd05-10629cb507d7"
      },
      "outputs": [
        {
          "output_type": "execute_result",
          "data": {
            "text/plain": [
              "count    1.000209e+06\n",
              "mean     1.865540e+03\n",
              "std      1.096041e+03\n",
              "min      1.000000e+00\n",
              "25%      1.030000e+03\n",
              "50%      1.835000e+03\n",
              "75%      2.770000e+03\n",
              "max      3.952000e+03\n",
              "Name: item_id, dtype: float64"
            ],
            "text/html": [
              "<div>\n",
              "<style scoped>\n",
              "    .dataframe tbody tr th:only-of-type {\n",
              "        vertical-align: middle;\n",
              "    }\n",
              "\n",
              "    .dataframe tbody tr th {\n",
              "        vertical-align: top;\n",
              "    }\n",
              "\n",
              "    .dataframe thead th {\n",
              "        text-align: right;\n",
              "    }\n",
              "</style>\n",
              "<table border=\"1\" class=\"dataframe\">\n",
              "  <thead>\n",
              "    <tr style=\"text-align: right;\">\n",
              "      <th></th>\n",
              "      <th>item_id</th>\n",
              "    </tr>\n",
              "  </thead>\n",
              "  <tbody>\n",
              "    <tr>\n",
              "      <th>count</th>\n",
              "      <td>1.000209e+06</td>\n",
              "    </tr>\n",
              "    <tr>\n",
              "      <th>mean</th>\n",
              "      <td>1.865540e+03</td>\n",
              "    </tr>\n",
              "    <tr>\n",
              "      <th>std</th>\n",
              "      <td>1.096041e+03</td>\n",
              "    </tr>\n",
              "    <tr>\n",
              "      <th>min</th>\n",
              "      <td>1.000000e+00</td>\n",
              "    </tr>\n",
              "    <tr>\n",
              "      <th>25%</th>\n",
              "      <td>1.030000e+03</td>\n",
              "    </tr>\n",
              "    <tr>\n",
              "      <th>50%</th>\n",
              "      <td>1.835000e+03</td>\n",
              "    </tr>\n",
              "    <tr>\n",
              "      <th>75%</th>\n",
              "      <td>2.770000e+03</td>\n",
              "    </tr>\n",
              "    <tr>\n",
              "      <th>max</th>\n",
              "      <td>3.952000e+03</td>\n",
              "    </tr>\n",
              "  </tbody>\n",
              "</table>\n",
              "</div><br><label><b>dtype:</b> float64</label>"
            ]
          },
          "metadata": {},
          "execution_count": 16
        }
      ],
      "source": [
        "all_ratings['item_id'].describe()"
      ]
    },
    {
      "cell_type": "code",
      "execution_count": 17,
      "metadata": {
        "colab": {
          "base_uri": "https://localhost:8080/"
        },
        "id": "8ncInsk_V1Cg",
        "outputId": "c93ceacb-62eb-4f2c-e031-b26b8d2d4b25"
      },
      "outputs": [
        {
          "output_type": "stream",
          "name": "stdout",
          "text": [
            "3706\n"
          ]
        }
      ],
      "source": [
        "# number of unique rated items\n",
        "total_item_id = len(all_ratings['item_id'].unique())\n",
        "print(total_item_id)"
      ]
    },
    {
      "cell_type": "markdown",
      "metadata": {
        "id": "3gGu2LjiV1Ci"
      },
      "source": [
        "Here there is a clear problem: there are 3706 different movies but the range of `item_id` starts at 1 and ends at 3952. So there are gaps, so the first thing you will need to do is to create a new column `item_num` so that all movies are indexed from 0 to 3705."
      ]
    },
    {
      "cell_type": "code",
      "execution_count": 18,
      "metadata": {
        "id": "9Zs7e-pyV1Cj"
      },
      "outputs": [],
      "source": [
        "itemnum_2_itemid = list(all_ratings['item_id'].unique())\n",
        "itemnum_2_itemid.sort()\n",
        "itemid_2_itemnum = {c:i for i,c in enumerate(itemnum_2_itemid)}\n",
        "all_ratings['item_num'] = all_ratings['item_id'].apply(lambda x: itemid_2_itemnum[x])"
      ]
    },
    {
      "cell_type": "markdown",
      "metadata": {
        "id": "weNJOlzcV1Cl"
      },
      "source": [
        "This function will verify that we have created `item_num` correctly."
      ]
    },
    {
      "cell_type": "code",
      "execution_count": 19,
      "metadata": {
        "id": "ktctMT12V1Cl"
      },
      "outputs": [],
      "source": [
        "def check_ratings_num(df):\n",
        "    item_num = set(df['item_num'])\n",
        "    if item_num == set(range(len(item_num))):\n",
        "        return True\n",
        "    else:\n",
        "        return False"
      ]
    },
    {
      "cell_type": "code",
      "execution_count": 20,
      "metadata": {
        "colab": {
          "base_uri": "https://localhost:8080/"
        },
        "id": "w4w1XQnfV1Cp",
        "outputId": "4a9dfc5a-9480-4db6-996e-a418e84b27a6"
      },
      "outputs": [
        {
          "output_type": "execute_result",
          "data": {
            "text/plain": [
              "True"
            ]
          },
          "metadata": {},
          "execution_count": 20
        }
      ],
      "source": [
        "check_ratings_num(all_ratings)"
      ]
    },
    {
      "cell_type": "code",
      "execution_count": 21,
      "metadata": {
        "colab": {
          "base_uri": "https://localhost:8080/",
          "height": 206
        },
        "id": "HYa43L6EV1Cr",
        "outputId": "b92f12f5-5ef1-47ac-fc1f-423c365db6a0"
      },
      "outputs": [
        {
          "output_type": "execute_result",
          "data": {
            "text/plain": [
              "   user_id  item_id  ratings  timestamp  \\\n",
              "0        1     1193        5  978300760   \n",
              "1        1      661        3  978302109   \n",
              "2        1      914        3  978301968   \n",
              "3        1     3408        4  978300275   \n",
              "4        1     2355        5  978824291   \n",
              "\n",
              "                                item_name  user_num  item_num  \n",
              "0  One Flew Over the Cuckoo's Nest (1975)         0      1104  \n",
              "1        James and the Giant Peach (1996)         0       639  \n",
              "2                     My Fair Lady (1964)         0       853  \n",
              "3                  Erin Brockovich (2000)         0      3177  \n",
              "4                    Bug's Life, A (1998)         0      2162  "
            ],
            "text/html": [
              "\n",
              "  <div id=\"df-0cae5dff-a5ac-4e3f-9381-c9bd8678811c\" class=\"colab-df-container\">\n",
              "    <div>\n",
              "<style scoped>\n",
              "    .dataframe tbody tr th:only-of-type {\n",
              "        vertical-align: middle;\n",
              "    }\n",
              "\n",
              "    .dataframe tbody tr th {\n",
              "        vertical-align: top;\n",
              "    }\n",
              "\n",
              "    .dataframe thead th {\n",
              "        text-align: right;\n",
              "    }\n",
              "</style>\n",
              "<table border=\"1\" class=\"dataframe\">\n",
              "  <thead>\n",
              "    <tr style=\"text-align: right;\">\n",
              "      <th></th>\n",
              "      <th>user_id</th>\n",
              "      <th>item_id</th>\n",
              "      <th>ratings</th>\n",
              "      <th>timestamp</th>\n",
              "      <th>item_name</th>\n",
              "      <th>user_num</th>\n",
              "      <th>item_num</th>\n",
              "    </tr>\n",
              "  </thead>\n",
              "  <tbody>\n",
              "    <tr>\n",
              "      <th>0</th>\n",
              "      <td>1</td>\n",
              "      <td>1193</td>\n",
              "      <td>5</td>\n",
              "      <td>978300760</td>\n",
              "      <td>One Flew Over the Cuckoo's Nest (1975)</td>\n",
              "      <td>0</td>\n",
              "      <td>1104</td>\n",
              "    </tr>\n",
              "    <tr>\n",
              "      <th>1</th>\n",
              "      <td>1</td>\n",
              "      <td>661</td>\n",
              "      <td>3</td>\n",
              "      <td>978302109</td>\n",
              "      <td>James and the Giant Peach (1996)</td>\n",
              "      <td>0</td>\n",
              "      <td>639</td>\n",
              "    </tr>\n",
              "    <tr>\n",
              "      <th>2</th>\n",
              "      <td>1</td>\n",
              "      <td>914</td>\n",
              "      <td>3</td>\n",
              "      <td>978301968</td>\n",
              "      <td>My Fair Lady (1964)</td>\n",
              "      <td>0</td>\n",
              "      <td>853</td>\n",
              "    </tr>\n",
              "    <tr>\n",
              "      <th>3</th>\n",
              "      <td>1</td>\n",
              "      <td>3408</td>\n",
              "      <td>4</td>\n",
              "      <td>978300275</td>\n",
              "      <td>Erin Brockovich (2000)</td>\n",
              "      <td>0</td>\n",
              "      <td>3177</td>\n",
              "    </tr>\n",
              "    <tr>\n",
              "      <th>4</th>\n",
              "      <td>1</td>\n",
              "      <td>2355</td>\n",
              "      <td>5</td>\n",
              "      <td>978824291</td>\n",
              "      <td>Bug's Life, A (1998)</td>\n",
              "      <td>0</td>\n",
              "      <td>2162</td>\n",
              "    </tr>\n",
              "  </tbody>\n",
              "</table>\n",
              "</div>\n",
              "    <div class=\"colab-df-buttons\">\n",
              "\n",
              "  <div class=\"colab-df-container\">\n",
              "    <button class=\"colab-df-convert\" onclick=\"convertToInteractive('df-0cae5dff-a5ac-4e3f-9381-c9bd8678811c')\"\n",
              "            title=\"Convert this dataframe to an interactive table.\"\n",
              "            style=\"display:none;\">\n",
              "\n",
              "  <svg xmlns=\"http://www.w3.org/2000/svg\" height=\"24px\" viewBox=\"0 -960 960 960\">\n",
              "    <path d=\"M120-120v-720h720v720H120Zm60-500h600v-160H180v160Zm220 220h160v-160H400v160Zm0 220h160v-160H400v160ZM180-400h160v-160H180v160Zm440 0h160v-160H620v160ZM180-180h160v-160H180v160Zm440 0h160v-160H620v160Z\"/>\n",
              "  </svg>\n",
              "    </button>\n",
              "\n",
              "  <style>\n",
              "    .colab-df-container {\n",
              "      display:flex;\n",
              "      gap: 12px;\n",
              "    }\n",
              "\n",
              "    .colab-df-convert {\n",
              "      background-color: #E8F0FE;\n",
              "      border: none;\n",
              "      border-radius: 50%;\n",
              "      cursor: pointer;\n",
              "      display: none;\n",
              "      fill: #1967D2;\n",
              "      height: 32px;\n",
              "      padding: 0 0 0 0;\n",
              "      width: 32px;\n",
              "    }\n",
              "\n",
              "    .colab-df-convert:hover {\n",
              "      background-color: #E2EBFA;\n",
              "      box-shadow: 0px 1px 2px rgba(60, 64, 67, 0.3), 0px 1px 3px 1px rgba(60, 64, 67, 0.15);\n",
              "      fill: #174EA6;\n",
              "    }\n",
              "\n",
              "    .colab-df-buttons div {\n",
              "      margin-bottom: 4px;\n",
              "    }\n",
              "\n",
              "    [theme=dark] .colab-df-convert {\n",
              "      background-color: #3B4455;\n",
              "      fill: #D2E3FC;\n",
              "    }\n",
              "\n",
              "    [theme=dark] .colab-df-convert:hover {\n",
              "      background-color: #434B5C;\n",
              "      box-shadow: 0px 1px 3px 1px rgba(0, 0, 0, 0.15);\n",
              "      filter: drop-shadow(0px 1px 2px rgba(0, 0, 0, 0.3));\n",
              "      fill: #FFFFFF;\n",
              "    }\n",
              "  </style>\n",
              "\n",
              "    <script>\n",
              "      const buttonEl =\n",
              "        document.querySelector('#df-0cae5dff-a5ac-4e3f-9381-c9bd8678811c button.colab-df-convert');\n",
              "      buttonEl.style.display =\n",
              "        google.colab.kernel.accessAllowed ? 'block' : 'none';\n",
              "\n",
              "      async function convertToInteractive(key) {\n",
              "        const element = document.querySelector('#df-0cae5dff-a5ac-4e3f-9381-c9bd8678811c');\n",
              "        const dataTable =\n",
              "          await google.colab.kernel.invokeFunction('convertToInteractive',\n",
              "                                                    [key], {});\n",
              "        if (!dataTable) return;\n",
              "\n",
              "        const docLinkHtml = 'Like what you see? Visit the ' +\n",
              "          '<a target=\"_blank\" href=https://colab.research.google.com/notebooks/data_table.ipynb>data table notebook</a>'\n",
              "          + ' to learn more about interactive tables.';\n",
              "        element.innerHTML = '';\n",
              "        dataTable['output_type'] = 'display_data';\n",
              "        await google.colab.output.renderOutput(dataTable, element);\n",
              "        const docLink = document.createElement('div');\n",
              "        docLink.innerHTML = docLinkHtml;\n",
              "        element.appendChild(docLink);\n",
              "      }\n",
              "    </script>\n",
              "  </div>\n",
              "\n",
              "\n",
              "<div id=\"df-db7facaf-bf2e-4a49-8fad-be503335c4c9\">\n",
              "  <button class=\"colab-df-quickchart\" onclick=\"quickchart('df-db7facaf-bf2e-4a49-8fad-be503335c4c9')\"\n",
              "            title=\"Suggest charts\"\n",
              "            style=\"display:none;\">\n",
              "\n",
              "<svg xmlns=\"http://www.w3.org/2000/svg\" height=\"24px\"viewBox=\"0 0 24 24\"\n",
              "     width=\"24px\">\n",
              "    <g>\n",
              "        <path d=\"M19 3H5c-1.1 0-2 .9-2 2v14c0 1.1.9 2 2 2h14c1.1 0 2-.9 2-2V5c0-1.1-.9-2-2-2zM9 17H7v-7h2v7zm4 0h-2V7h2v10zm4 0h-2v-4h2v4z\"/>\n",
              "    </g>\n",
              "</svg>\n",
              "  </button>\n",
              "\n",
              "<style>\n",
              "  .colab-df-quickchart {\n",
              "      --bg-color: #E8F0FE;\n",
              "      --fill-color: #1967D2;\n",
              "      --hover-bg-color: #E2EBFA;\n",
              "      --hover-fill-color: #174EA6;\n",
              "      --disabled-fill-color: #AAA;\n",
              "      --disabled-bg-color: #DDD;\n",
              "  }\n",
              "\n",
              "  [theme=dark] .colab-df-quickchart {\n",
              "      --bg-color: #3B4455;\n",
              "      --fill-color: #D2E3FC;\n",
              "      --hover-bg-color: #434B5C;\n",
              "      --hover-fill-color: #FFFFFF;\n",
              "      --disabled-bg-color: #3B4455;\n",
              "      --disabled-fill-color: #666;\n",
              "  }\n",
              "\n",
              "  .colab-df-quickchart {\n",
              "    background-color: var(--bg-color);\n",
              "    border: none;\n",
              "    border-radius: 50%;\n",
              "    cursor: pointer;\n",
              "    display: none;\n",
              "    fill: var(--fill-color);\n",
              "    height: 32px;\n",
              "    padding: 0;\n",
              "    width: 32px;\n",
              "  }\n",
              "\n",
              "  .colab-df-quickchart:hover {\n",
              "    background-color: var(--hover-bg-color);\n",
              "    box-shadow: 0 1px 2px rgba(60, 64, 67, 0.3), 0 1px 3px 1px rgba(60, 64, 67, 0.15);\n",
              "    fill: var(--button-hover-fill-color);\n",
              "  }\n",
              "\n",
              "  .colab-df-quickchart-complete:disabled,\n",
              "  .colab-df-quickchart-complete:disabled:hover {\n",
              "    background-color: var(--disabled-bg-color);\n",
              "    fill: var(--disabled-fill-color);\n",
              "    box-shadow: none;\n",
              "  }\n",
              "\n",
              "  .colab-df-spinner {\n",
              "    border: 2px solid var(--fill-color);\n",
              "    border-color: transparent;\n",
              "    border-bottom-color: var(--fill-color);\n",
              "    animation:\n",
              "      spin 1s steps(1) infinite;\n",
              "  }\n",
              "\n",
              "  @keyframes spin {\n",
              "    0% {\n",
              "      border-color: transparent;\n",
              "      border-bottom-color: var(--fill-color);\n",
              "      border-left-color: var(--fill-color);\n",
              "    }\n",
              "    20% {\n",
              "      border-color: transparent;\n",
              "      border-left-color: var(--fill-color);\n",
              "      border-top-color: var(--fill-color);\n",
              "    }\n",
              "    30% {\n",
              "      border-color: transparent;\n",
              "      border-left-color: var(--fill-color);\n",
              "      border-top-color: var(--fill-color);\n",
              "      border-right-color: var(--fill-color);\n",
              "    }\n",
              "    40% {\n",
              "      border-color: transparent;\n",
              "      border-right-color: var(--fill-color);\n",
              "      border-top-color: var(--fill-color);\n",
              "    }\n",
              "    60% {\n",
              "      border-color: transparent;\n",
              "      border-right-color: var(--fill-color);\n",
              "    }\n",
              "    80% {\n",
              "      border-color: transparent;\n",
              "      border-right-color: var(--fill-color);\n",
              "      border-bottom-color: var(--fill-color);\n",
              "    }\n",
              "    90% {\n",
              "      border-color: transparent;\n",
              "      border-bottom-color: var(--fill-color);\n",
              "    }\n",
              "  }\n",
              "</style>\n",
              "\n",
              "  <script>\n",
              "    async function quickchart(key) {\n",
              "      const quickchartButtonEl =\n",
              "        document.querySelector('#' + key + ' button');\n",
              "      quickchartButtonEl.disabled = true;  // To prevent multiple clicks.\n",
              "      quickchartButtonEl.classList.add('colab-df-spinner');\n",
              "      try {\n",
              "        const charts = await google.colab.kernel.invokeFunction(\n",
              "            'suggestCharts', [key], {});\n",
              "      } catch (error) {\n",
              "        console.error('Error during call to suggestCharts:', error);\n",
              "      }\n",
              "      quickchartButtonEl.classList.remove('colab-df-spinner');\n",
              "      quickchartButtonEl.classList.add('colab-df-quickchart-complete');\n",
              "    }\n",
              "    (() => {\n",
              "      let quickchartButtonEl =\n",
              "        document.querySelector('#df-db7facaf-bf2e-4a49-8fad-be503335c4c9 button');\n",
              "      quickchartButtonEl.style.display =\n",
              "        google.colab.kernel.accessAllowed ? 'block' : 'none';\n",
              "    })();\n",
              "  </script>\n",
              "</div>\n",
              "\n",
              "    </div>\n",
              "  </div>\n"
            ],
            "application/vnd.google.colaboratory.intrinsic+json": {
              "type": "dataframe",
              "variable_name": "all_ratings"
            }
          },
          "metadata": {},
          "execution_count": 21
        }
      ],
      "source": [
        "all_ratings.head()"
      ]
    },
    {
      "cell_type": "markdown",
      "metadata": {
        "id": "y2XGHdnbLms4"
      },
      "source": [
        "### Preliminary data analysis\n",
        "\n",
        "**Exercises**: Find the top 10 most popular movies in the dataset and include the result in your report"
      ]
    },
    {
      "cell_type": "code",
      "execution_count": 22,
      "metadata": {
        "colab": {
          "base_uri": "https://localhost:8080/"
        },
        "id": "V-jcrW96lwsW",
        "outputId": "2f79da48-0ae6-46e2-a7d6-2cfbed2d21f5"
      },
      "outputs": [
        {
          "output_type": "stream",
          "name": "stdout",
          "text": [
            "   item_id  ratings                                          item_name\n",
            "0     2858     3428                             American Beauty (1999)\n",
            "1      260     2991          Star Wars: Episode IV - A New Hope (1977)\n",
            "2     1196     2990  Star Wars: Episode V - The Empire Strikes Back...\n",
            "3     1210     2883  Star Wars: Episode VI - Return of the Jedi (1983)\n",
            "4      480     2672                               Jurassic Park (1993)\n",
            "5     2028     2653                         Saving Private Ryan (1998)\n",
            "6      589     2649                  Terminator 2: Judgment Day (1991)\n",
            "7     2571     2590                                 Matrix, The (1999)\n",
            "8     1270     2583                          Back to the Future (1985)\n",
            "9      593     2578                   Silence of the Lambs, The (1991)\n"
          ]
        }
      ],
      "source": [
        "import pandas as pd\n",
        "\n",
        "# Assuming all_ratings is your DataFrame\n",
        "# Group by item_id (movie ID) and count the number of ratings for each movie\n",
        "movie_popularity = all_ratings.groupby('item_id')['ratings'].count()\n",
        "\n",
        "# Convert the Series to a DataFrame\n",
        "movie_popularity = movie_popularity.reset_index()\n",
        "\n",
        "# Sort the movies by the count in descending order\n",
        "sorted_movies = movie_popularity.sort_values(by='ratings', ascending=False)\n",
        "\n",
        "# Get the top 10 most popular movies\n",
        "top_10_movies = sorted_movies.head(10)\n",
        "\n",
        "# Since you also need movie titles, you can merge this information with the movies_names DataFrame\n",
        "top_10_movies = top_10_movies.merge(movies_names, on='item_id')\n",
        "\n",
        "# Display the top 10 most popular movies\n",
        "print(top_10_movies)"
      ]
    },
    {
      "cell_type": "markdown",
      "metadata": {
        "id": "1KOFiKMCr0_4"
      },
      "source": [
        "**Exercise**: Plot the histogram of popularity (x-axis: # of given ratings, y-axis: # of movies with the given # of ratings). Include the plot in your report."
      ]
    },
    {
      "cell_type": "code",
      "execution_count": 23,
      "metadata": {
        "colab": {
          "base_uri": "https://localhost:8080/",
          "height": 564
        },
        "id": "iES1dtjRmnvv",
        "outputId": "fd9f3f26-0188-4c81-b076-7d350f717d28"
      },
      "outputs": [
        {
          "output_type": "display_data",
          "data": {
            "text/plain": [
              "<Figure size 1000x600 with 1 Axes>"
            ],
            "image/png": "[encoded data removed]"
          },
          "metadata": {}
        }
      ],
      "source": [
        "import matplotlib.pyplot as plt\n",
        "\n",
        "# Plotting the histogram\n",
        "plt.figure(figsize=(10, 6))\n",
        "plt.hist(movie_popularity['ratings'], bins=50, edgecolor='black', color='green')  # Changed color to green\n",
        "\n",
        "# Adding titles and labels\n",
        "plt.title('Histogram of Movie Popularity')\n",
        "plt.xlabel('Number of Ratings (Popularity)')\n",
        "plt.ylabel('Number of Movies')\n",
        "\n",
        "# Show the plot\n",
        "plt.show()\n"
      ]
    },
    {
      "cell_type": "markdown",
      "metadata": {
        "id": "9e7Er529r3xY"
      },
      "source": [
        "**Exercise**: Plot the histogram of user activity (x-axis: # of given ratings, y-axis: # of users with the given # of ratings). Include the plot in your report."
      ]
    },
    {
      "cell_type": "code",
      "execution_count": 24,
      "metadata": {
        "colab": {
          "base_uri": "https://localhost:8080/",
          "height": 564
        },
        "id": "f-5mN1F6qLLF",
        "outputId": "46525b1c-0e74-4dc5-8357-d8cc6f58b15c"
      },
      "outputs": [
        {
          "output_type": "display_data",
          "data": {
            "text/plain": [
              "<Figure size 1000x600 with 1 Axes>"
            ],
            "image/png": "[encoded data removed]"
          },
          "metadata": {}
        }
      ],
      "source": [
        "import matplotlib.pyplot as plt\n",
        "\n",
        "# Assuming all_ratings is your DataFrame\n",
        "# Group by user_id and count the number of ratings for each user\n",
        "user_activity = all_ratings.groupby('user_id')['ratings'].count()\n",
        "\n",
        "# Plotting the histogram\n",
        "plt.figure(figsize=(10, 6))\n",
        "plt.hist(user_activity, bins=50, edgecolor='black')\n",
        "\n",
        "# Adding titles and labels\n",
        "plt.title('Histogram of User Activity')\n",
        "plt.xlabel('Number of Ratings Given')\n",
        "plt.ylabel('Number of Users')\n",
        "\n",
        "# Show the plot\n",
        "plt.show()"
      ]
    },
    {
      "cell_type": "markdown",
      "metadata": {
        "id": "nI7Tomlfr64A"
      },
      "source": [
        "**Exercise**: Compute the average ratings for every movie and find the top 20 highly rated movies. Include the list of 20 highly rated movies and their ratings in your report. Are these highly rated movies popular?"
      ]
    },
    {
      "cell_type": "code",
      "execution_count": 25,
      "metadata": {
        "colab": {
          "base_uri": "https://localhost:8080/"
        },
        "id": "3TFUhkPEqyLq",
        "outputId": "2b647ae2-ed60-44b4-9dad-9f8a73ae4e44"
      },
      "outputs": [
        {
          "output_type": "stream",
          "name": "stdout",
          "text": [
            "    item_id   ratings                                          item_name\n",
            "0      3280  5.000000                                   Baby, The (1973)\n",
            "1      3233  5.000000                               Smashing Time (1967)\n",
            "2      3607  5.000000                           One Little Indian (1973)\n",
            "3      3382  5.000000                             Song of Freedom (1936)\n",
            "4      3881  5.000000                           Bittersweet Motel (2000)\n",
            "5       989  5.000000          Schlafes Bruder (Brother of Sleep) (1995)\n",
            "6      3656  5.000000                                       Lured (1947)\n",
            "7      3172  5.000000                            Ulysses (Ulisse) (1954)\n",
            "8      1830  5.000000                            Follow the Bitch (1998)\n",
            "9       787  5.000000                 Gate of Heavenly Peace, The (1995)\n",
            "10     3245  4.800000                I Am Cuba (Soy Cuba/Ya Kuba) (1964)\n",
            "11       53  4.750000                                    Lamerica (1994)\n",
            "12     2503  4.666667                            Apple, The (Sib) (1998)\n",
            "13     2905  4.608696                                     Sanjuro (1962)\n",
            "14     2019  4.560510  Seven Samurai (The Magnificent Seven) (Shichin...\n",
            "15      318  4.554558                   Shawshank Redemption, The (1994)\n",
            "16      858  4.524966                              Godfather, The (1972)\n",
            "17      745  4.520548                              Close Shave, A (1995)\n",
            "18       50  4.517106                         Usual Suspects, The (1995)\n",
            "19      527  4.510417                            Schindler's List (1993)\n",
            "Common movies in both highly rated and popular categories: set()\n"
          ]
        }
      ],
      "source": [
        "import pandas as pd\n",
        "\n",
        "# Calculating the average rating for each movie\n",
        "average_ratings = all_ratings.groupby('item_id')['ratings'].mean()\n",
        "\n",
        "# Converting the Series to a DataFrame\n",
        "average_ratings = average_ratings.reset_index()\n",
        "\n",
        "# Sort the movies by average rating in descending order\n",
        "sorted_by_rating = average_ratings.sort_values(by='ratings', ascending=False)\n",
        "\n",
        "# Get the top 20 highest rated movies\n",
        "top_20_rated = sorted_by_rating.head(20)\n",
        "\n",
        "# Merge with movies_names to get movie titles\n",
        "top_20_rated = top_20_rated.merge(movies_names, on='item_id')\n",
        "\n",
        "# Display the top 20 highly rated movies\n",
        "print(top_20_rated)\n",
        "\n",
        "# To check if these movies are popular, you can compare the item_id in top_20_rated with the item_id in top_10_movies from the previous popularity exercise\n",
        "# This can be done by checking the intersection of both lists\n",
        "popular_movies_ids = set(top_10_movies['item_id'])\n",
        "highly_rated_movies_ids = set(top_20_rated['item_id'])\n",
        "common_movies = popular_movies_ids.intersection(highly_rated_movies_ids)\n",
        "\n",
        "# Display the common movies\n",
        "print(\"Common movies in both highly rated and popular categories:\", common_movies)"
      ]
    },
    {
      "cell_type": "markdown",
      "metadata": {
        "id": "OYXD-eNv4PyD"
      },
      "source": []
    },
    {
      "cell_type": "markdown",
      "metadata": {
        "id": "Ur4bjuniUUFj"
      },
      "source": [
        "---\n",
        "## Train, Validation, and Test Data\n",
        "\n",
        "Now we will split the data in _train_, _val_ and _test_ be using a pre-defined function from [scikit-learn](http://scikit-learn.org/stable/)"
      ]
    },
    {
      "cell_type": "code",
      "execution_count": 26,
      "metadata": {
        "id": "ZT5oxhoGUUFm"
      },
      "outputs": [],
      "source": [
        "#Split the data into train, validation and test\n",
        "from sklearn.model_selection import train_test_split\n",
        "\n",
        "ratings_trainval, ratings_test = train_test_split(all_ratings, test_size=0.1, random_state=42)\n",
        "\n",
        "ratings_train, ratings_val = train_test_split(ratings_trainval, test_size=0.1, random_state=42)"
      ]
    },
    {
      "cell_type": "code",
      "execution_count": 27,
      "metadata": {
        "id": "_xIuapYfBssG"
      },
      "outputs": [],
      "source": [
        "user_id_train = ratings_train['user_id']\n",
        "item_id_train = ratings_train['item_id']\n",
        "rating_train = ratings_train['ratings']\n",
        "\n",
        "user_id_test = ratings_test['user_id']\n",
        "item_id_test = ratings_test['item_id']\n",
        "rating_test = ratings_test['ratings']"
      ]
    },
    {
      "cell_type": "code",
      "execution_count": 28,
      "metadata": {
        "colab": {
          "base_uri": "https://localhost:8080/"
        },
        "id": "kRo_Un-IBiof",
        "outputId": "026798f6-6209-4100-a5d5-052b57448728"
      },
      "outputs": [
        {
          "output_type": "stream",
          "name": "stdout",
          "text": [
            "{'Bodyguard, The (1992)', 'Star Wars: Episode IV - A New Hope (1977)', 'Inspector Gadget (1999)', 'Two if by Sea (1996)', 'Star Wars: Episode I - The Phantom Menace (1999)', 'Children of the Corn (1984)', 'Home Alone (1990)', 'Jackie Brown (1997)', 'Celluloid Closet, The (1995)', 'Rudy (1993)', 'Coneheads (1993)', 'Simple Plan, A (1998)', 'Great Escape, The (1963)', 'In & Out (1997)', 'Tomorrow Never Dies (1997)', 'Alien Nation (1988)', 'Naked Gun: From the Files of Police Squad!, The (1988)', 'Man Who Knew Too Little, The (1997)', 'Howards End (1992)', 'Princess Bride, The (1987)', 'Final Destination (2000)', 'Star Trek: The Wrath of Khan (1982)', 'Titanic (1997)', 'Mighty Ducks, The (1992)'}\n"
          ]
        }
      ],
      "source": [
        "movies_not_train = list(set(all_ratings['item_id']) -set(item_id_train))\n",
        "movies_not_train_name=set(all_ratings.loc[movies_not_train]['item_name'])\n",
        "print(movies_not_train_name)"
      ]
    },
    {
      "cell_type": "markdown",
      "metadata": {
        "id": "Vmx1YZmTUUGG"
      },
      "source": [
        "We see that a few movies are not rated in the train set. For those movies, it is hard to predict their ratings accurately."
      ]
    },
    {
      "cell_type": "markdown",
      "metadata": {
        "id": "Rlhi4ocr4iOD"
      },
      "source": [
        "---\n",
        "## Data Load and Batching"
      ]
    },
    {
      "cell_type": "markdown",
      "metadata": {
        "id": "3JEV5wxk5h0t"
      },
      "source": [
        "Use GPU if available."
      ]
    },
    {
      "cell_type": "code",
      "execution_count": 29,
      "metadata": {
        "id": "fU4OIArA5iyb"
      },
      "outputs": [],
      "source": [
        "import torch\n",
        "device = torch.device(\"cuda:0\" if torch.cuda.is_available() else \"cpu\")"
      ]
    },
    {
      "cell_type": "markdown",
      "metadata": {
        "id": "za-dIdY45tpa"
      },
      "source": [
        "We define a function to return a triplet of user_num, item_num, rating from the dataframe."
      ]
    },
    {
      "cell_type": "code",
      "execution_count": 30,
      "metadata": {
        "id": "rxsYMLko5Qu6"
      },
      "outputs": [],
      "source": [
        "def df_2_tensor(df, device):\n",
        "    # return a triplet user_num, item_num, rating from the dataframe\n",
        "    user_num = np.asarray(df['user_num'])\n",
        "    item_num = np.asarray(df['item_num'])\n",
        "    rating = np.asarray(df['ratings'])\n",
        "    return torch.from_numpy(user_num).to(device), torch.from_numpy(item_num).to(device), torch.from_numpy(rating).to(device)"
      ]
    },
    {
      "cell_type": "markdown",
      "metadata": {
        "id": "-v3Bjgyt5VjV"
      },
      "source": [
        "Below, we construct 3 tensors containing the `user_num`, `item_num` and `rating` for the training set. All tensors have the same shape so that `train_user_num[i]` watched `train_item_num[i]` and gave a rating of `train_rating[i]`."
      ]
    },
    {
      "cell_type": "code",
      "execution_count": 31,
      "metadata": {
        "id": "XPRBxFWX5Uwy"
      },
      "outputs": [],
      "source": [
        "train_user_num, train_item_num, train_rating = df_2_tensor(ratings_train,device)"
      ]
    },
    {
      "cell_type": "markdown",
      "metadata": {
        "id": "uJwGxZFH5emq"
      },
      "source": [
        "We now do the same thing for the validation and test sets."
      ]
    },
    {
      "cell_type": "code",
      "execution_count": 32,
      "metadata": {
        "id": "UWMHCQ0V5ZSt"
      },
      "outputs": [],
      "source": [
        "val_user_num, val_item_num, val_rating = df_2_tensor(ratings_val,device)\n",
        "test_user_num, test_item_num, test_rating = df_2_tensor(ratings_test,device)"
      ]
    },
    {
      "cell_type": "markdown",
      "metadata": {
        "id": "LgoPPq9c5A7K"
      },
      "source": [
        "Now you need to construct a dataset and a dataloader. For this, you can define a first function taking as arguments the tensors defined above and returning a list (Hint: you may use the [zip function](https://www.w3schools.com/python/ref_func_zip.asp)); then a second function taking as argument a dataset, the batchsize and a boolean for the shuffling."
      ]
    },
    {
      "cell_type": "markdown",
      "metadata": {
        "id": "FuM5hsyldlfe"
      },
      "source": [
        "**Exercise**: Filling in the missing code below to construct dataset and dataloader."
      ]
    },
    {
      "cell_type": "code",
      "execution_count": 33,
      "metadata": {
        "id": "fYYeRdVe5ALx"
      },
      "outputs": [],
      "source": [
        "def tensor_2_dataset(user,item,rating):\n",
        "    # your code here\n",
        "    # Hint: check the zip function\n",
        "    dataset = list(zip(user, item, rating))\n",
        "    return dataset\n",
        "\n",
        "from torch.utils.data import DataLoader\n",
        "def make_dataloader(dataset,bs,shuffle):\n",
        "    # your code here\n",
        "    dataloader = DataLoader(dataset, batch_size=bs, shuffle=shuffle)\n",
        "    return dataloader"
      ]
    },
    {
      "cell_type": "code",
      "execution_count": 34,
      "metadata": {
        "id": "AU-xgyto5Gyh"
      },
      "outputs": [],
      "source": [
        "train_dataset = tensor_2_dataset(train_user_num,train_item_num, train_rating)\n",
        "val_dataset = tensor_2_dataset(val_user_num,val_item_num,val_rating)\n",
        "test_dataset = tensor_2_dataset(test_user_num, test_item_num, test_rating)"
      ]
    },
    {
      "cell_type": "markdown",
      "metadata": {
        "id": "610dw-Uo5dIn"
      },
      "source": [
        "Load the train, validation, and test data in batchs of size 1024."
      ]
    },
    {
      "cell_type": "code",
      "execution_count": 35,
      "metadata": {
        "id": "GJQOXjWX5ODw"
      },
      "outputs": [],
      "source": [
        "train_dataloader = make_dataloader(train_dataset,1024,True)\n",
        "val_dataloader = make_dataloader(val_dataset,1024, False)\n",
        "test_dataloader = make_dataloader(test_dataset,1024,False)"
      ]
    },
    {
      "cell_type": "markdown",
      "metadata": {
        "id": "Q7JF-d05UUGc"
      },
      "source": [
        "---\n",
        "## The model\n",
        "\n"
      ]
    },
    {
      "cell_type": "code",
      "execution_count": 36,
      "metadata": {
        "id": "tsrfFi1QUUGd"
      },
      "outputs": [],
      "source": [
        "import torch.nn as nn\n",
        "import torch.nn.functional as F\n",
        "import torch.optim as optim"
      ]
    },
    {
      "cell_type": "markdown",
      "metadata": {
        "id": "HpkKu7PVUUGp"
      },
      "source": [
        "We will use some custom embeddings defined as below."
      ]
    },
    {
      "cell_type": "code",
      "execution_count": 37,
      "metadata": {
        "id": "eB6_y1nMUUGq"
      },
      "outputs": [],
      "source": [
        "class ScaledEmbedding(nn.Embedding):\n",
        "    \"\"\"\n",
        "    Embedding layer that initialises its values\n",
        "    to using a normal variable scaled by the inverse\n",
        "    of the embedding dimension.\n",
        "    \"\"\"\n",
        "    def reset_parameters(self):\n",
        "        \"\"\"\n",
        "        Initialize parameters.\n",
        "        \"\"\"\n",
        "\n",
        "        self.weight.data.normal_(0, 1.0 / self.embedding_dim)\n",
        "        if self.padding_idx is not None:\n",
        "            self.weight.data[self.padding_idx].fill_(0.0)\n",
        "\n",
        "\n",
        "class ZeroEmbedding(nn.Embedding):\n",
        "    \"\"\"\n",
        "    Used for biases.\n",
        "    \"\"\"\n",
        "\n",
        "    def reset_parameters(self):\n",
        "        \"\"\"\n",
        "        Initialize parameters.\n",
        "        \"\"\"\n",
        "\n",
        "        self.weight.data.zero_()\n",
        "        if self.padding_idx is not None:\n",
        "            self.weight.data[self.padding_idx].fill_(0.0)"
      ]
    },
    {
      "cell_type": "markdown",
      "metadata": {
        "id": "cZdXB0ieIv2J"
      },
      "source": [
        "### Creating Our Own Embedding Module\n",
        "\n",
        "Now, we define the `Model_dot`(class to represents users and items. It's composed of a 4 `embedding` layers:\n",
        "\n",
        "- a `(num_users x latent_dim)` embedding layer to represent users,\n",
        "- a `(num_items x latent_dim)` embedding layer to represent items,\n",
        "- a `(num_users x 1)` embedding layer to represent user biases, and\n",
        "- a `(num_items x 1)` embedding layer to represent item biases.\n",
        "\n",
        "\n",
        "\n",
        "\n",
        "\n"
      ]
    },
    {
      "cell_type": "markdown",
      "metadata": {
        "id": "s0F7EJoz7jbJ"
      },
      "source": [
        "**Exercise**: Fill the missing code to define the embeddings."
      ]
    },
    {
      "cell_type": "code",
      "execution_count": 38,
      "metadata": {
        "id": "ktXRW3-4UUGt"
      },
      "outputs": [],
      "source": [
        "class DotModel(nn.Module):\n",
        "\n",
        "    def __init__(self,\n",
        "                 num_users,\n",
        "                 num_items,\n",
        "                 embedding_dim=32):\n",
        "\n",
        "        super(DotModel, self).__init__()\n",
        "\n",
        "        self.embedding_dim = embedding_dim\n",
        "\n",
        "        # TODO: generate user and item embeddigns using ScaledEmbedding\n",
        "        # your code\n",
        "        self.user_embeddings = ScaledEmbedding(num_users, embedding_dim)\n",
        "        self.item_embeddings = ScaledEmbedding(num_items, embedding_dim)\n",
        "\n",
        "        # TODO: generate bias embeddigns using ZeroEmbedding\n",
        "        # your code\n",
        "        self.user_biases = ZeroEmbedding(num_users, 1)\n",
        "        self.item_biases = ZeroEmbedding(num_items, 1)\n",
        "\n",
        "\n",
        "    def forward(self, user_ids, item_ids):\n",
        "\n",
        "        # TODO: compute and return the predicted rating based on the embedding vectors and biases.\n",
        "        # your code\n",
        "        user_embedding = self.user_embeddings(user_ids)\n",
        "        item_embedding = self.item_embeddings(item_ids)\n",
        "        user_bias = self.user_biases(user_ids).squeeze()\n",
        "        item_bias = self.item_biases(item_ids).squeeze()\n",
        "\n",
        "        # Compute the dot product and biases\n",
        "        dot = (user_embedding * item_embedding).sum(1)\n",
        "        rating = dot + user_bias + item_bias\n",
        "        return rating"
      ]
    },
    {
      "cell_type": "code",
      "execution_count": 39,
      "metadata": {
        "id": "PlbbwU1ze5d7"
      },
      "outputs": [],
      "source": [
        "net = DotModel(total_user_id,total_item_id).to(device)"
      ]
    },
    {
      "cell_type": "code",
      "execution_count": 40,
      "metadata": {
        "colab": {
          "base_uri": "https://localhost:8080/"
        },
        "id": "Qr2Dwbgz8D7C",
        "outputId": "7dcb373d-2436-4c93-fb2f-ecbb8dacbfa1"
      },
      "outputs": [
        {
          "output_type": "execute_result",
          "data": {
            "text/plain": [
              "DotModel(\n",
              "  (user_embeddings): ScaledEmbedding(6040, 32)\n",
              "  (item_embeddings): ScaledEmbedding(3706, 32)\n",
              "  (user_biases): ZeroEmbedding(6040, 1)\n",
              "  (item_biases): ZeroEmbedding(3706, 1)\n",
              ")"
            ]
          },
          "metadata": {},
          "execution_count": 40
        }
      ],
      "source": [
        "net"
      ]
    },
    {
      "cell_type": "markdown",
      "metadata": {
        "id": "ysX9Q9pxiMG4"
      },
      "source": [
        "Now we check your network by taking  a batch from train loader."
      ]
    },
    {
      "cell_type": "code",
      "execution_count": 41,
      "metadata": {
        "id": "RLdCbCnzB2S-"
      },
      "outputs": [],
      "source": [
        "batch_user, batch_item, batch_rating = next(iter(train_dataloader))\n",
        "batch_user, batch_item, batch_rating = batch_user.to(device), batch_item.to(device), batch_rating.to(device)"
      ]
    },
    {
      "cell_type": "code",
      "execution_count": 42,
      "metadata": {
        "colab": {
          "base_uri": "https://localhost:8080/"
        },
        "id": "I20UhBLZjBEs",
        "outputId": "eee46e9d-b7c6-4004-d4b2-8b9fc66921f8"
      },
      "outputs": [
        {
          "output_type": "execute_result",
          "data": {
            "text/plain": [
              "torch.Size([1024])"
            ]
          },
          "metadata": {},
          "execution_count": 42
        }
      ],
      "source": [
        "predictions = net(batch_user, batch_item)\n",
        "predictions.shape"
      ]
    },
    {
      "cell_type": "markdown",
      "metadata": {
        "id": "Dnmsgb3SJc_M"
      },
      "source": [
        "We will use MSE loss defined below:"
      ]
    },
    {
      "cell_type": "code",
      "execution_count": 43,
      "metadata": {
        "id": "TXXAisyw8L7i"
      },
      "outputs": [],
      "source": [
        "def regression_loss(predicted_ratings, observed_ratings):\n",
        "    return ((observed_ratings - predicted_ratings) ** 2).mean()"
      ]
    },
    {
      "cell_type": "code",
      "execution_count": 44,
      "metadata": {
        "id": "l38_kUO38Qn7"
      },
      "outputs": [],
      "source": [
        "loss=regression_loss(predictions,batch_rating)"
      ]
    },
    {
      "cell_type": "code",
      "execution_count": 45,
      "metadata": {
        "colab": {
          "base_uri": "https://localhost:8080/"
        },
        "id": "FZ3T-Ucv8yUK",
        "outputId": "6e7e4824-a4c4-4a2f-c2dd-4220c1361281"
      },
      "outputs": [
        {
          "output_type": "execute_result",
          "data": {
            "text/plain": [
              "tensor(13.7422, device='cuda:0', grad_fn=<MeanBackward0>)"
            ]
          },
          "metadata": {},
          "execution_count": 45
        }
      ],
      "source": [
        "loss"
      ]
    },
    {
      "cell_type": "markdown",
      "metadata": {
        "id": "aMYwouCb884T"
      },
      "source": [
        "## Train and test the model"
      ]
    },
    {
      "cell_type": "markdown",
      "metadata": {
        "id": "mhJebD7X9v6Z"
      },
      "source": [
        "Now we define `FactorizationModel` class  that allows us to train and evaluate the explicit factorization models.\n"
      ]
    },
    {
      "cell_type": "markdown",
      "metadata": {
        "id": "wz1h-gG-V1DX"
      },
      "source": [
        "- The `fit` function should take as argument a dataloader for the training and a dataloader for the validation. At the end of each epoch, you run the test method on the validation set. Then you print both the loss on the training set and on the validation set to see if you are overfitting.\n",
        "\n",
        "- Weight decay, or *L2 regularization*, consists in adding to your loss function the sum of all the weights squared. Why do that? Because when we compute the gradients, it will add a contribution to them that will encourage the weights to be as small as possible."
      ]
    },
    {
      "cell_type": "markdown",
      "metadata": {
        "id": "jyGx-MznEqk2"
      },
      "source": [
        "**Exercise**: Filling in the missing code below to complete the training pass and validation pass."
      ]
    },
    {
      "cell_type": "code",
      "execution_count": 46,
      "metadata": {
        "id": "2ekPPr7SUUG7"
      },
      "outputs": [],
      "source": [
        "class FactorizationModel(object):\n",
        "\n",
        "    def __init__(self, embedding_dim=32, n_iter=10, l2=0.0,\n",
        "                 learning_rate=1e-2, device=device, net=None, num_users=None,\n",
        "                 num_items=None,random_state=None):\n",
        "\n",
        "        self._embedding_dim = embedding_dim\n",
        "        self._n_iter = n_iter\n",
        "        self._learning_rate = learning_rate\n",
        "        self._l2 = l2\n",
        "        self._device = device\n",
        "        self._num_users = num_users\n",
        "        self._num_items = num_items\n",
        "        self._net = net\n",
        "        self._optimizer = None\n",
        "        self._loss_func = None\n",
        "        self._random_state = random_state or np.random.RandomState()\n",
        "\n",
        "\n",
        "    def _initialize(self):\n",
        "        if self._net is None:\n",
        "            self._net = DotModel(self._num_users, self._num_items, self._embedding_dim).to(self._device)\n",
        "\n",
        "        self._optimizer = optim.Adam(\n",
        "                self._net.parameters(),\n",
        "                lr=self._learning_rate,\n",
        "                weight_decay=self._l2\n",
        "            )\n",
        "\n",
        "        self._loss_func = regression_loss\n",
        "\n",
        "    @property\n",
        "    def _initialized(self):\n",
        "        return self._optimizer is not None\n",
        "\n",
        "\n",
        "    def fit(self, dataloader, val_dataloader, verbose=True):\n",
        "        if not self._initialized:\n",
        "            self._initialize()\n",
        "\n",
        "        valid_loss_min = np.Inf # track change in validation loss\n",
        "        train_losses, valid_losses, valid_maes =[], [], [] # track train losses, valid loss, and valid maes over epoches\n",
        "\n",
        "        for epoch_num in range(self._n_iter):\n",
        "            tot_train_loss = 0.0\n",
        "            ###################\n",
        "            # train the model #\n",
        "            ###################\n",
        "            #TODO: trainining loop:\n",
        "            # your code\n",
        "            for batch_user, batch_item, batch_rating in dataloader:\n",
        "              batch_user, batch_item, batch_rating = batch_user.to(self._device), batch_item.to(self._device), batch_rating.to(self._device)\n",
        "\n",
        "              # Zero the gradients\n",
        "              self._optimizer.zero_grad()\n",
        "              # Compute predictions\n",
        "              predictions = self._net(batch_user, batch_item)\n",
        "              # Compute loss\n",
        "              loss = self._loss_func(predictions, batch_rating.float())\n",
        "              tot_train_loss += loss.item()\n",
        "              # Backpropagation\n",
        "              loss.backward()\n",
        "              # Update weights\n",
        "              self._optimizer.step()\n",
        "\n",
        "            train_loss = tot_train_loss /len(dataloader)\n",
        "\n",
        "            # Go to the validation loop\n",
        "            valid_loss, valid_mae = self.test(val_dataloader)\n",
        "\n",
        "            train_losses.append(train_loss)\n",
        "            valid_losses.append(valid_loss)\n",
        "            valid_maes.append(valid_mae)\n",
        "\n",
        "            if verbose:\n",
        "                print('Epoch {}: loss_train {}, loss_val {}'.format(epoch_num, train_loss,valid_loss))\n",
        "\n",
        "            if np.isnan(train_loss) or train_loss == 0.0:\n",
        "                raise ValueError('Degenerate train loss: {}'.format(train_loss))\n",
        "\n",
        "            #TODO: Saving model if validation loss has decreased\n",
        "            # your code\n",
        "            if valid_loss < valid_loss_min:\n",
        "                print('Validation loss decreased ({:.6f} --> {:.6f}). Saving model ...'.format(valid_loss_min, valid_loss))\n",
        "                torch.save(self._net.state_dict(), 'best_model.pth')  # Save the model\n",
        "                valid_loss_min = valid_loss\n",
        "\n",
        "        return train_losses, valid_losses, valid_maes\n",
        "\n",
        "    ######################\n",
        "    # validate/Test the model #\n",
        "    ######################\n",
        "    def test(self,dataloader, verbose = False):\n",
        "        self._net.eval()\n",
        "        L1loss = torch.nn.L1Loss()\n",
        "        tot_test_loss = 0.0\n",
        "        tot_test_mae = 0.0\n",
        "\n",
        "        # TODO: validation/testing loop\n",
        "        # your code here (mae = mean absolute error)\n",
        "        with torch.no_grad():  # Not track gradients\n",
        "          for batch_user, batch_item, batch_rating in dataloader:\n",
        "              batch_user, batch_item, batch_rating = batch_user.to(self._device), batch_item.to(self._device), batch_rating.to(self._device)\n",
        "              # Compute predictions\n",
        "              predictions = self._net(batch_user, batch_item)\n",
        "              # Compute loss\n",
        "              loss = self._loss_func(predictions, batch_rating.float())\n",
        "              tot_test_loss += loss.item()\n",
        "              # Compute MAE\n",
        "              mae = L1loss(predictions, batch_rating.float())\n",
        "              tot_test_mae += mae.item()\n",
        "\n",
        "        test_loss = tot_test_loss / len(dataloader)\n",
        "        test_mae = tot_test_mae / len(dataloader)\n",
        "        if verbose:\n",
        "            print(f\"RMSE: {np.sqrt(test_loss)}, MAE: {test_mae}\")\n",
        "        return test_loss, test_mae"
      ]
    },
    {
      "cell_type": "code",
      "execution_count": 47,
      "metadata": {
        "id": "qGuzPUNrUUG_"
      },
      "outputs": [],
      "source": [
        "#TODO: Construct your model using FactorizationModel\n",
        "# your code\n",
        "\n",
        "model = FactorizationModel(\n",
        "    embedding_dim=32,\n",
        "    n_iter=30,  # Number of training epochs\n",
        "    l2=0.001,  # L2 regularization\n",
        "    learning_rate = 0.001,  # Learning rate\n",
        "    num_users=total_user_id,  # Total number of users\n",
        "    num_items=total_item_id  # Total number of items\n",
        ")"
      ]
    },
    {
      "cell_type": "markdown",
      "metadata": {
        "id": "fLZyF15WgbK7"
      },
      "source": [
        "**Exercise**: Train the model and plot the train losses and valid losses over epoches.\n",
        "At which epoch, you would stop the training? Include the plot and your answer in the report."
      ]
    },
    {
      "cell_type": "code",
      "execution_count": null,
      "metadata": {
        "colab": {
          "base_uri": "https://localhost:8080/"
        },
        "id": "TWl6JIvCrItk",
        "outputId": "5a478244-1e18-4e29-87f7-eac1cdaf424a"
      },
      "outputs": [
        {
          "output_type": "stream",
          "name": "stdout",
          "text": [
            "Epoch 0: loss_train 8.899166237525266, loss_val 3.9592735550620337\n",
            "Validation loss decreased (inf --> 3.959274). Saving model ...\n",
            "Epoch 1: loss_train 3.5109130198305305, loss_val 3.290020590478724\n",
            "Validation loss decreased (3.959274 --> 3.290021). Saving model ...\n",
            "Epoch 2: loss_train 3.2111386879526003, loss_val 3.1335795440457086\n",
            "Validation loss decreased (3.290021 --> 3.133580). Saving model ...\n",
            "Epoch 3: loss_train 3.09121930629316, loss_val 3.0410090441053566\n",
            "Validation loss decreased (3.133580 --> 3.041009). Saving model ...\n"
          ]
        }
      ],
      "source": [
        "import matplotlib.pyplot as plt\n",
        "train_losses, valid_losses, valid_maes = model.fit(train_dataloader, val_dataloader)\n",
        "plt.figure(figsize=(10, 5))\n",
        "plt.plot(train_losses, label='Training Loss')\n",
        "plt.plot(valid_losses, label='Validation Loss')\n",
        "plt.xlabel('Epochs')\n",
        "plt.ylabel('Loss')\n",
        "plt.title('Training and Validation Losses Over Epochs')\n",
        "plt.legend()\n",
        "plt.show()"
      ]
    },
    {
      "cell_type": "markdown",
      "metadata": {
        "id": "iTwwARoap0WI"
      },
      "source": [
        "**Exercise**: Now, let's compute the RMSE and mean absolute error on the test data. Include your answers in your report."
      ]
    },
    {
      "cell_type": "code",
      "execution_count": null,
      "metadata": {
        "id": "4_kGRx8QsNVe"
      },
      "outputs": [],
      "source": [
        "test_loss, test_mae = model.test(test_dataloader, verbose=True)\n",
        "print(\"Test RMSE: {:f}, Test MAE: {:f}\".format(test_loss, test_mae))"
      ]
    },
    {
      "cell_type": "markdown",
      "metadata": {
        "id": "yXVIF75IUUHW"
      },
      "source": [
        "## Optimize your model and training\n",
        "\n",
        "**Exercise**: Play with the hyperparameters (embedding_dim, n_iter, learning_rate, L2 regularization, etc) to beat the benchmarks presented in [Surprise](https://github.com/NicolasHug/Surprise). List the hyperparameters and the RMSE and MAE on test data in the report. Save the model state to `model_cf.pt` and submit it to Canvas.\n"
      ]
    },
    {
      "cell_type": "code",
      "execution_count": null,
      "metadata": {
        "id": "jqHtFnWat85Y"
      },
      "outputs": [],
      "source": [
        "# Define each hyperparameter\n",
        "embedding_dims = [64]\n",
        "learning_rates = [1e-3]\n",
        "l2_regs = [1e-5]\n",
        "n_iters = [15]\n",
        "\n",
        "best_rmse, best_mae, best_params = float('inf'), float('inf'), {}\n",
        "\n",
        "# Loop through all possible combinations\n",
        "for emb_dim in embedding_dims:\n",
        "    for lr in learning_rates:\n",
        "        for l2 in l2_regs:\n",
        "            for n_iter in n_iters:\n",
        "                model = FactorizationModel(embedding_dim=emb_dim, n_iter=n_iter, l2=l2, learning_rate=lr, device=device, num_users=total_user_id, num_items=total_item_id)\n",
        "                train_losses, valid_losses, valid_maes = model.fit(train_dataloader, val_dataloader)\n",
        "                val_rmse, val_mae = model.test(val_dataloader)\n",
        "\n",
        "                if val_rmse < best_rmse:\n",
        "                    best_rmse, best_mae, best_params = val_rmse, val_mae, {'embedding_dim': emb_dim, 'learning_rate': lr, 'l2': l2, 'n_iter': n_iter}\n",
        "                    torch.save(model._net.state_dict(), 'model_cf.pt')\n",
        "\n",
        "print(f\"Best Params: {best_params}, Best RMSE: {best_rmse}, Best MAE: {best_mae}\")"
      ]
    },
    {
      "cell_type": "code",
      "execution_count": null,
      "metadata": {
        "id": "-sKQ7NT_zPiV"
      },
      "outputs": [],
      "source": [
        "best_model = FactorizationModel(**best_params, device=device, num_users=total_user_id, num_items=total_item_id)\n",
        "\n",
        "# Ensure the model is initialized\n",
        "best_model._initialize()\n",
        "\n",
        "# Now load the saved model state\n",
        "best_model._net.load_state_dict(torch.load('model_cf.pt'))\n",
        "\n",
        "# Evaluate the model on the test set\n",
        "test_rmse, test_mae = best_model.test(test_dataloader, verbose=True)"
      ]
    },
    {
      "cell_type": "markdown",
      "metadata": {
        "id": "N3JT3S4X2H_z"
      },
      "source": [
        "Here is comparison between the best benckmarks in [Surprise](https://github.com/NicolasHug/Surprise) and your model after hyperparameters tunning.\n",
        "\n",
        "| [Movielens 1M](https://grouplens.org/datasets/movielens/1m)                                                                             |   RMSE |   MAE |\n",
        "|:----------------------------------------------------------------------------------------------------------------------------------------|-------:|------:|\n",
        "| [SVD++ (cache_ratings=False)](https://surprise.readthedocs.io/en/stable/matrix_factorization.html#surprise.prediction_algorithms.matrix_factorization.SVDpp)  |  0.862 | 0.672 |\n",
        "| [SVD++ (cache_ratings=True)](https://surprise.readthedocs.io/en/stable/matrix_factorization.html#surprise.prediction_algorithms.matrix_factorization.SVDpp)  |  0.862 | 0.672 |\n",
        "| **Yours**|  **XXX** | **XXX** |\n",
        "\n"
      ]
    },
    {
      "cell_type": "markdown",
      "metadata": {
        "id": "VK3KgG47V1Di"
      },
      "source": [
        "## Interpreting Biases\n",
        "\n",
        "Now you need to rank the movies according to their bias. For this, you need to recover the biases of the movies, make a list of the pairs `[name of the movie, its bias]` and then sort this list according to the biases. You can use the method sort of a list.\n",
        "\n",
        "**Exercise**: What are your top 10 movies with the largest values of movie bias? What do you think about this ranking? Include your answers in your report."
      ]
    },
    {
      "cell_type": "code",
      "execution_count": null,
      "metadata": {
        "id": "7KDDTQfxV1Di"
      },
      "outputs": [],
      "source": [
        "#TODO: retreive the bias of the movies from your optimized model and store it in the numpy array item_bais_np\n",
        "item_bias_np = best_model._net.item_biases.weight.detach().cpu().numpy()\n",
        "item_bias_np = item_bias_np.squeeze()"
      ]
    },
    {
      "cell_type": "code",
      "execution_count": null,
      "metadata": {
        "id": "VgHLnzpQyS9B"
      },
      "outputs": [],
      "source": [
        "# construct a dictionary that maps item_num to item_name, and vice versa\n",
        "numitem_2_name = {i:name for name,i in np.asarray(all_ratings[['item_name', 'item_num']])}\n",
        "name_2_numitem = {name:i for name,i in np.asarray(all_ratings[['item_name', 'item_num']])}"
      ]
    },
    {
      "cell_type": "code",
      "execution_count": null,
      "metadata": {
        "id": "ciREXjeuyS9B"
      },
      "outputs": [],
      "source": [
        "# Construct a list of movie names and the corresponding bias.\n",
        "list_name_bias = [[name, item_bias_np[name_2_numitem[name]]] for name in list(ratings_train['item_name'].unique())]"
      ]
    },
    {
      "cell_type": "code",
      "execution_count": null,
      "metadata": {
        "id": "pe-H03pUyS9C"
      },
      "outputs": [],
      "source": [
        "#TODO: sort the movie names by biases and output the top 10 movie names with the largest biases.\n",
        "# your code\n",
        "list_name_bias.sort(key=lambda x: x[1], reverse=True)  # Sort by bias in descending order\n",
        "top_10_movies_by_bias = list_name_bias[:10]  # Select top 10 movies\n",
        "top_10_movies_by_bias"
      ]
    },
    {
      "cell_type": "markdown",
      "metadata": {
        "id": "Dc1ZKW9XV1Dl"
      },
      "source": [
        "## PCA of movies' embeddings\n",
        "\n",
        "Now you can also play with the embeddings learned by your algorithm for the movies.\n",
        "\n",
        "It is not quite so easy to directly interpret the embedding matrices. There are just too many factors for a human to look at. But there is a technique that can pull out the most important underlying *directions* in such a matrix, called *principal component analysis* (PCA). We will not be going into this in detail in this class, because it is not particularly important for you to understand to be a deep learning practitioner. We can visualize the movie embeddings based on two of the strongest PCA components."
      ]
    },
    {
      "cell_type": "markdown",
      "metadata": {
        "id": "6audyNC7RxzP"
      },
      "source": [
        "**Exercise**: Do you observe anything interesting from the movie embeddings? Include the plot of the movie embeddings and your answer in your report."
      ]
    },
    {
      "cell_type": "code",
      "execution_count": null,
      "metadata": {
        "id": "HX37hFDsV1Dl"
      },
      "outputs": [],
      "source": [
        "from sklearn.decomposition import PCA\n",
        "from operator import itemgetter"
      ]
    },
    {
      "cell_type": "code",
      "execution_count": null,
      "metadata": {
        "id": "J3JKToYkyS9D"
      },
      "outputs": [],
      "source": [
        "#TODO: retrive your movie embedding vectors and store them as a numpy matrix\n",
        "item_emb_np = best_model._net.item_embeddings.weight.detach().cpu().numpy()"
      ]
    },
    {
      "cell_type": "code",
      "execution_count": null,
      "metadata": {
        "id": "ICTZZA_ryS9E"
      },
      "outputs": [],
      "source": [
        "#Here we perform PCA to extract the 4 principal components\n",
        "pca = PCA(n_components=4)\n",
        "latent_fac = pca.fit_transform(item_emb_np)"
      ]
    },
    {
      "cell_type": "markdown",
      "metadata": {
        "id": "xVeF3WyEU4zk"
      },
      "source": [
        "Next, we plot the embeddings of the top 80 mostly rated movies using the second and third principal components."
      ]
    },
    {
      "cell_type": "code",
      "execution_count": null,
      "metadata": {
        "id": "sXY9VbTTU4Hj"
      },
      "outputs": [],
      "source": [
        "#Here we get the top 1000 mostly rated movies\n",
        "g = all_ratings.groupby('item_name')['ratings'].count()\n",
        "most_rated_movies = g.sort_values(ascending=False).index.values[:1000]\n",
        "# we get the corresponding movie numbers\n",
        "most_rated_movies_num = [name_2_numitem[n] for n in most_rated_movies]"
      ]
    },
    {
      "cell_type": "code",
      "execution_count": null,
      "metadata": {
        "id": "9ExxO9aTyS9F"
      },
      "outputs": [],
      "source": [
        "nums = most_rated_movies_num[:80]\n",
        "txt_movies_names = [numitem_2_name[i] for i in nums]\n",
        "X = latent_fac[nums,1]\n",
        "Y = latent_fac[nums,2]\n",
        "plt.figure(figsize=(15,15))\n",
        "plt.scatter(X, Y)\n",
        "for i, x, y in zip(txt_movies_names, X, Y):\n",
        "    plt.text(x+0.01,y-0.01,i, fontsize=11)\n",
        "plt.show()"
      ]
    },
    {
      "cell_type": "markdown",
      "metadata": {
        "id": "4Zcau6EUUURG"
      },
      "source": [
        "## Predict your own ratings\n",
        "\n",
        "Now that we have succesfully trained a model, let's see how to deal with the situation where we have a new user. How can we make recommendations to new users?\n",
        "\n",
        "It turns out that we can utilize the learned movie embedding vectors to estimate new users' embedding vector, based on a few ratings from them. You may have noticed that when you sign up for services such as Pandora and Netflix, they tend to ask you a few questions about what movie or music you like; this is how they come up with your initial collaborative filtering recommendations.\n",
        "\n",
        "\n",
        "- First, give 40 ratings between 1-5 to the movies that your team watched before among the mostly rated movies;"
      ]
    },
    {
      "cell_type": "code",
      "execution_count": null,
      "metadata": {
        "id": "oGZfqlMW-EtT"
      },
      "outputs": [],
      "source": [
        "import random\n",
        "\n",
        "my_ratings = {movie: random.randint(1, 5) for movie in random.sample(list(most_rated_movies), 40)}\n",
        "my_ratings"
      ]
    },
    {
      "cell_type": "markdown",
      "metadata": {
        "id": "FQjezgMJzKuL"
      },
      "source": [
        "\n",
        "- Second, compute your own embedding vector `my_emb_np` and `my_emb_bias` by running an ordinary least squares with L_2 regularization based on your ratings and the previously computed movie embedding vectors. In other words, `item_emb_np` is the co-variate and your own 40 ratings are the response.\n",
        "\n",
        "  Hint: you may use the [ridge regression (linear regression with L2 regularization)](https://scikit-learn.org/stable/modules/generated/sklearn.linear_model.Ridge.html) in the sklearn package."
      ]
    },
    {
      "cell_type": "code",
      "execution_count": null,
      "metadata": {
        "id": "YRF6EH3y-JSu"
      },
      "outputs": [],
      "source": [
        "#TODO: compute your own embedding vector and bias\n",
        "\n",
        "from sklearn.linear_model import Ridge\n",
        "import numpy as np\n",
        "\n",
        "rated_movie_embeddings = np.array([item_emb_np[name_2_numitem[movie]] for movie in my_ratings if movie in name_2_numitem])\n",
        "my_ratings_array = np.array([my_ratings[movie] for movie in my_ratings if movie in name_2_numitem])\n",
        "\n",
        "ridge = Ridge(alpha=1.0)\n",
        "ridge.fit(rated_movie_embeddings, my_ratings_array)\n",
        "\n",
        "my_emb_np = ridge.coef_  # Embedding\n",
        "my_emb_bias = ridge.intercept_  # Bias\n"
      ]
    },
    {
      "cell_type": "markdown",
      "metadata": {
        "id": "rweDLiwXeE53"
      },
      "source": [
        "-  Then compute the predicted ratings for all movies using your embedding vectors and biases, together with the movie embedding vectors and biases."
      ]
    },
    {
      "cell_type": "code",
      "execution_count": null,
      "metadata": {
        "id": "jN4GobDrHwvA"
      },
      "outputs": [],
      "source": [
        "# compute pred_ratings\n",
        "\n",
        "all_movie_embeddings = best_model._net.item_embeddings.weight.detach().cpu().numpy()\n",
        "all_movie_biases = best_model._net.item_biases.weight.detach().cpu().numpy().squeeze()\n",
        "\n",
        "# Compute predicted ratings for all movies\n",
        "pred_ratings = np.dot(all_movie_embeddings, my_emb_np) + my_emb_bias + all_movie_biases"
      ]
    },
    {
      "cell_type": "markdown",
      "metadata": {
        "id": "cmuoQ966z9EQ"
      },
      "source": [
        "- Finally, among all movies that you haven't rated, output the top 10 movies with the highest predicted ratings."
      ]
    },
    {
      "cell_type": "code",
      "execution_count": null,
      "metadata": {
        "id": "pDYEImAIjI-H"
      },
      "outputs": [],
      "source": [
        "# output the top 10 movies with the highest predicted ratings.\n",
        "\n",
        "# All movies in the dataset\n",
        "all_movies = set(name_2_numitem.keys())\n",
        "\n",
        "# Movies you have rated\n",
        "rated_movies = set(my_ratings.keys())\n",
        "\n",
        "# Movies you haven't rated\n",
        "unrated_movies = all_movies - rated_movies\n",
        "\n",
        "# Get the indices (numbers) of unrated movies\n",
        "unrated_movies_indices = [name_2_numitem[movie] for movie in unrated_movies]\n",
        "\n",
        "# Predicted ratings for unrated movies\n",
        "unrated_pred_ratings = pred_ratings[unrated_movies_indices]\n",
        "\n",
        "# Get the indices of top 10 ratings among unrated movies\n",
        "top_10_unrated_indices = np.argsort(unrated_pred_ratings)[-10:]\n",
        "\n",
        "# Map these indices to movie names\n",
        "top_10_unrated_movie_names = [numitem_2_name[unrated_movies_indices[idx]] for idx in top_10_unrated_indices]\n",
        "\n",
        "print(\"Top 10 Unrated Movies with Highest Predicted Ratings:\")\n",
        "for movie_name in top_10_unrated_movie_names:\n",
        "    print(movie_name)"
      ]
    },
    {
      "cell_type": "markdown",
      "metadata": {
        "id": "FZ20yUNHk_7Y"
      },
      "source": [
        "**Question**: How do you feel about the predicted ratings? Do you like these top 10 movies? Include your answer in your report."
      ]
    },
    {
      "cell_type": "markdown",
      "metadata": {
        "id": "Z7fPfgNBoFT7"
      },
      "source": [
        "---\n",
        "## Movie valuation\n",
        "\n",
        "The rating data provided the company like Netflix information about the value of a movie that was not available to movie production studios. The collaborative filting algorithm allows Netflix to accurately value the content in a data-driven manner. For example, if Netflix were offered the opportunity to license *Toy Story (1995)*, it would need to provide Disney an initial quote of the license fee. Traditional methods suggest looking at box office returns of *Toy Story* franchise and projecting the potential value of the film.\n",
        "\n",
        "In this following, we will explore a novel approach to determine the valuation of a movie based on the predicted ratings. We make the following simplifying assumpitons (Note that these assumptions can be certainly relaxed with more complicated procedures and data):\n",
        "\n",
        "- **Netflix are focusing on the top 1000 active users and 1000 popular movies (with the most number of observed ratings).** In other words, in the following movie valuation calculation, we just consider the top 1000 activie users and 1000 popular movies, disregarding the rest.\n",
        "\n",
        "- For each user, the total amount of viewing time is proportional to the number of observed ratings. In other words, more active users spend more time on Netflix;\n",
        "\n",
        "- For each given user, the viewing time across different movies follow a [Zipf's law](https://en.wikipedia.org/wiki/Zipf%27s_law), that is\n",
        "\n",
        "  $$\n",
        "    \\text{Viewtime of movie $i$} \\propto \\frac{1}{\\text{rank of } i }\n",
        "  $$\n",
        "  Here the rank of $i$ is determined by sorting the **predicted rating** of movie $i$ by the user in descending order. In other words, the user spend less time on watching movies with lower ratings.\n",
        "\n",
        "- Netflix has a fixed total budget of 1 Billion dollars to license the content;\n",
        "\n",
        "- Netflix estimates the value of a movie based on the expected share of customer viewing time of the movie on its platform:\n",
        "$$\n",
        "\\text{Value of a movie $i$ } = \\frac{\\text{View time of movie $i$ of all users}}{\\text{Total view time of all users} } \\times \\text{Total content license budget}\n",
        "$$"
      ]
    },
    {
      "cell_type": "markdown",
      "metadata": {
        "id": "p7nNaeIJrxKA"
      },
      "source": [
        "\n",
        "### Compute the value of each movie"
      ]
    },
    {
      "cell_type": "code",
      "execution_count": null,
      "metadata": {
        "id": "z_C67BTjrSDc"
      },
      "outputs": [],
      "source": [
        "# Get indices for top 1000 active users and top 1000 mostly rated movies\n",
        "top1000_user_num = pd.Series(all_ratings[\"user_num\"].value_counts()[:1000].index, name=\"user_num\")\n",
        "top1000_item_num = pd.Series(all_ratings[\"item_num\"].value_counts()[:1000].index, name=\"item_num\")\n",
        "# Construct dataframes for storing predicted ratings\n",
        "pred_ratings = pd.merge(top1000_user_num, top1000_item_num, how=\"cross\")\n",
        "cartesian_user_num = torch.from_numpy(np.asarray(pred_ratings[\"user_num\"])).to(device)\n",
        "cartesian_item_num = torch.from_numpy(np.asarray(pred_ratings[\"item_num\"])).to(device)"
      ]
    },
    {
      "cell_type": "code",
      "execution_count": null,
      "metadata": {
        "id": "6_u71ReKG-_2"
      },
      "outputs": [],
      "source": [
        "pred_ratings.head()"
      ]
    },
    {
      "cell_type": "code",
      "execution_count": null,
      "metadata": {
        "id": "6Iga7-hsbB28"
      },
      "outputs": [],
      "source": [
        "# sanity check: # of rows in pred_ratings == # of active users (1000) x # of popular items (1000)\n",
        "pred_ratings.shape[0] == 1000 * 1000"
      ]
    },
    {
      "cell_type": "code",
      "execution_count": null,
      "metadata": {
        "id": "Kwd0kppNsy1x"
      },
      "outputs": [],
      "source": [
        "#TODO: use your optimized model to compute the predicted ratings among the top 1000 active users and top 1000 popular movies\n",
        "\n",
        "best_model._initialize()\n",
        "best_model._net.load_state_dict(torch.load('model_cf.pt'))\n",
        "\n",
        "with torch.no_grad():\n",
        "    predicted_ratings_tensor = best_model._net(cartesian_user_num, cartesian_item_num)\n",
        "predicted_ratings_array = predicted_ratings_tensor.cpu().numpy()\n",
        "\n",
        "pred_ratings[\"pred_ratings\"] = predicted_ratings_array"
      ]
    },
    {
      "cell_type": "code",
      "execution_count": null,
      "metadata": {
        "id": "JPb_QqWnTS-p"
      },
      "outputs": [],
      "source": [
        "# Each user's total viewtime is stored in Series user_total_viewtime\n",
        "user_total_viewtime = all_ratings[\"user_num\"].value_counts()[:1000] / all_ratings[\"user_num\"].value_counts()[:1000].sum()\n",
        "user_total_viewtime.name = \"user_total_viewtime\"\n",
        "user_total_viewtime.index.name = \"user_num\"\n",
        "pred_ratings = pd.merge(pred_ratings, user_total_viewtime, left_on=\"user_num\", right_on=\"user_num\", how=\"left\")"
      ]
    },
    {
      "cell_type": "code",
      "execution_count": null,
      "metadata": {
        "id": "XwtRGaxMHgX4"
      },
      "outputs": [],
      "source": [
        "pred_ratings.head()"
      ]
    },
    {
      "cell_type": "code",
      "execution_count": null,
      "metadata": {
        "id": "CGYUQOGETpJH"
      },
      "outputs": [],
      "source": [
        "# Each user per each movie viewtime: pred_all_ratings[\"user_item_viewtime\"] = [\"1/user_rank\"] / [\"sum(1/user_rank)\"] * [\"user_total_viewtime\"]\n",
        "# these wordy codes are to reduce RAM consumption otherwise Colab may crush\n",
        "pred_ratings[\"1/user_rank\"] = 1/pred_ratings.groupby(\"user_num\")[\"pred_ratings\"].rank(method = \"min\", ascending = False)\n",
        "sum_inverse_user_rank = pred_ratings.groupby(\"user_num\")[\"1/user_rank\"].sum()\n",
        "sum_inverse_user_rank.name = \"sum(1/user_rank)\"\n",
        "pred_ratings = pd.merge(pred_ratings, sum_inverse_user_rank, left_on=\"user_num\", right_on=\"user_num\", how=\"left\")\n",
        "pred_ratings[\"user_item_viewtime\"] = pred_ratings[\"1/user_rank\"] / pred_ratings[\"sum(1/user_rank)\"] * pred_ratings[\"user_total_viewtime\"]"
      ]
    },
    {
      "cell_type": "code",
      "execution_count": null,
      "metadata": {
        "id": "kg-eRoQlH1JI"
      },
      "outputs": [],
      "source": [
        "pred_ratings"
      ]
    },
    {
      "cell_type": "code",
      "execution_count": null,
      "metadata": {
        "id": "l9Ye6ePU0dPa"
      },
      "outputs": [],
      "source": [
        "# sanity check: sum of user_item_viewtime == 1\n",
        "pred_ratings[\"user_item_viewtime\"].sum()"
      ]
    },
    {
      "cell_type": "code",
      "execution_count": null,
      "metadata": {
        "id": "-ixxWznAUDZG"
      },
      "outputs": [],
      "source": [
        "# compute each movie's value\n",
        "budget =  1000000000\n",
        "#TODO: compute and store the values of movies based on pred_ratings\n",
        "movie_viewtime_sum = pred_ratings.groupby(\"item_num\")[\"user_item_viewtime\"].sum()\n",
        "movie_values = movie_viewtime_sum * budget\n",
        "movie_values.name = \"item_value\""
      ]
    },
    {
      "cell_type": "code",
      "execution_count": null,
      "metadata": {
        "id": "ENlg_2avaE3z"
      },
      "outputs": [],
      "source": [
        "# replace item_num by item_name\n",
        "movie_values = movie_values.to_frame()\n",
        "movie_values[\"item_name\"] = [numitem_2_name[item_num] for item_num in movie_values.index]\n",
        "movie_values = movie_values.set_index(\"item_name\").squeeze(axis=1)"
      ]
    },
    {
      "cell_type": "code",
      "execution_count": null,
      "metadata": {
        "id": "IL1koMbfIeFI"
      },
      "outputs": [],
      "source": [
        "movie_values.head()"
      ]
    },
    {
      "cell_type": "code",
      "execution_count": null,
      "metadata": {
        "id": "FHLauUJ6a1zj"
      },
      "outputs": [],
      "source": [
        "# sanity check: sum of movie values == budget\n",
        "movie_values.sum() == budget"
      ]
    },
    {
      "cell_type": "markdown",
      "metadata": {
        "id": "eXjfpVJN9YQB"
      },
      "source": [
        "### Output the top valued movies"
      ]
    },
    {
      "cell_type": "markdown",
      "metadata": {
        "id": "_WKrLtifm0Ex"
      },
      "source": [
        "**Question**: Include your answer in the report.\n",
        "\n",
        "- What is your estimated value of *Toy Story (1995)*?\n",
        "\n",
        "- What are the top 10 mostly valued movies?\n"
      ]
    },
    {
      "cell_type": "code",
      "execution_count": null,
      "metadata": {
        "id": "XXzStOqsHy8H"
      },
      "outputs": [],
      "source": [
        "# your code\n",
        "toy_story_value = movie_values[\"Toy Story (1995)\"]\n",
        "print(\"Estimated value of Toy Story (1995):\", toy_story_value)\n",
        "# Get the top 10 most valued movies\n",
        "top_10_valued_movies = movie_values.sort_values(ascending=False).head(10)\n",
        "print(\"Top 10 Mostly Valued Movies:\")\n",
        "print(top_10_valued_movies)"
      ]
    },
    {
      "cell_type": "markdown",
      "metadata": {
        "id": "qaBFvCq39cKw"
      },
      "source": [
        "\n",
        "### Compare the output with the mostly rated movies. Identify the discrepancies."
      ]
    },
    {
      "cell_type": "markdown",
      "metadata": {
        "id": "2_yELRBXV8ds"
      },
      "source": [
        "**Question**: Include your answers in your report.\n",
        "\n",
        "- What are the movies that are top 30 rated but not in top 30 valued?\n",
        "- What do you think about this approach of movie valuation? How does it compare with the approach based on the popularity of the movies?\n",
        "\n",
        "\n"
      ]
    },
    {
      "cell_type": "code",
      "source": [
        "print(\"Movies top 30 rated but not in top 30 valued:\")\n",
        "for movie_id in rated_not_valued:\n",
        "    # Check if the movie_id exists in the movies_names DataFrame\n",
        "    if movie_id in movies_names['item_id'].values:\n",
        "        movie_name = movies_names.loc[movies_names['item_id'] == movie_id, 'item_name'].iloc[0]\n",
        "        print(movie_name)\n",
        "    else:\n",
        "        print(f\" {movie_id}.\")\n"
      ],
      "metadata": {
        "id": "M7y3J_oFwOof"
      },
      "execution_count": null,
      "outputs": []
    }
  ],
  "metadata": {
    "accelerator": "GPU",
    "colab": {
      "machine_shape": "hm",
      "provenance": []
    },
    "kernelspec": {
      "display_name": "Python 3",
      "name": "python3"
    },
    "language_info": {
      "name": "python"
    }
  },
  "nbformat": 4,
  "nbformat_minor": 0
}